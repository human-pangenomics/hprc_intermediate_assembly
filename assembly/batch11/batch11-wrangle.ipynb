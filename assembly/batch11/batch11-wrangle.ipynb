{
 "cells": [
  {
   "cell_type": "code",
   "execution_count": 111,
   "metadata": {},
   "outputs": [],
   "source": [
    "import ast\n",
    "import pandas as pd\n",
    "pd.set_option('display.max_columns', 500)\n",
    "pd.set_option('display.width', 1000)"
   ]
  },
  {
   "cell_type": "code",
   "execution_count": 112,
   "metadata": {},
   "outputs": [],
   "source": [
    "batch11 = pd.read_csv('HPRC_Assembly_s3Locs_batch11-initial.tsv', sep='\\t')\n",
    "\n",
    "# Check that files are present in the main data tables\n",
    "hifi_metadata = pd.read_csv('/private/groups/hprc/human-pangenomics/documentation-metadata/HPRC_metadata/data/hprc-data-explorer-tables/HPRC_PacBio_HiFi.tsv',sep='\\t')\n",
    "\n",
    "ont_metadata = pd.read_csv('/private/groups/hprc/human-pangenomics/documentation-metadata/HPRC_metadata/data/hprc-data-explorer-tables/HPRC_ONT.tsv',sep='\\t')\n",
    "\n",
    "illumina_pedigree_df = pd.read_csv('/private/groups/hprc/human-pangenomics/documentation-metadata/HPRC_metadata/submissions/Illumina_1KG/Illumina_pedigree.transfer.csv')\n",
    "illumina_df = pd.read_csv('/private/groups/hprc/human-pangenomics/documentation-metadata/HPRC_metadata/submissions/Illumina_1KG/Illumina_Y1-Y4.transfer.csv')\n",
    "\n",
    "ont_y4 = pd.read_csv('/private/groups/hprc/human-pangenomics/documentation-metadata/HPRC_metadata/submissions/UCSC_HPRC_nanopore_Year4/1_metadata/UCSC_HPRC_nanopore_Year4_final_table.csv')"
   ]
  },
  {
   "cell_type": "code",
   "execution_count": 113,
   "metadata": {},
   "outputs": [],
   "source": [
    "# All missing:\n",
    "# HiFi coverage is missing\n",
    "# ONT coverage over 100kb \n",
    "assert batch11[batch11.hifi_cov.isna()].shape[0] == batch11.shape[0]\n",
    "assert batch11[batch11.ont_cov_over100kb.isna()].shape[0] == batch11.shape[0]\n"
   ]
  },
  {
   "cell_type": "code",
   "execution_count": 114,
   "metadata": {},
   "outputs": [],
   "source": [
    "# apply list character to  type  ist\n",
    "batch11['hifi']  = batch11['hifi'].apply(ast.literal_eval)\n",
    "batch11['nanopore'] = batch11['nanopore'].apply(ast.literal_eval)\n",
    "batch11['hic'] = batch11['hic'].apply(ast.literal_eval)\n",
    "batch11['hic_r1'] = batch11['hic_r1'].apply(ast.literal_eval)\n",
    "batch11['hic_r2'] = batch11['hic_r2'].apply(ast.literal_eval)"
   ]
  },
  {
   "cell_type": "code",
   "execution_count": 115,
   "metadata": {},
   "outputs": [
    {
     "name": "stdout",
     "output_type": "stream",
     "text": [
      "s3://human-pangenomics/working/HPRC/NA19909/raw_data/PacBio_HiFi/m84081_230523_180945_s1.hifi_reads.bc2005.bam\n",
      "s3://human-pangenomics/working/HPRC/NA19909/raw_data/PacBio_HiFi/m84081_230525_172954_s3.hifi_reads.bc2005.bam\n",
      "s3://human-pangenomics/working/HPRC/NA19909/raw_data/PacBio_HiFi/m84081_230609_194256_s2.hifi_reads.bc2001.bam\n",
      "s3://human-pangenomics/working/HPRC/NA19909/raw_data/PacBio_HiFi/m84081_230728_194836_s2.hifi_reads.bc2029.bam\n",
      "s3://human-pangenomics/working/HPRC/NA19909/raw_data/PacBio_HiFi/m84081_230728_201942_s3.hifi_reads.bc2029.bam\n",
      "s3://human-pangenomics/working/HPRC/NA19909/raw_data/PacBio_HiFi/m84081_231207_200206_s1.hifi_reads.bc2008.bam\n"
     ]
    }
   ],
   "source": [
    "for data in batch11[batch11['sample_id'].isin(['NA19909'])]['hifi'].tolist()[0]:\n",
    "\tprint(data)"
   ]
  },
  {
   "cell_type": "code",
   "execution_count": 116,
   "metadata": {},
   "outputs": [],
   "source": [
    "ont_y4['sample_ID'] = [sample_id.split('_')[-2] for sample_id in ont_y4['library_ID'].tolist()]"
   ]
  },
  {
   "cell_type": "code",
   "execution_count": 117,
   "metadata": {},
   "outputs": [
    {
     "name": "stdout",
     "output_type": "stream",
     "text": [
      "Checking sample: HG01167\n",
      "Checking sample: NA20827\n",
      "AssertionError for sample: NA20827 - Mismatch in HiFi files for sample NA20827\n",
      "Checking sample: NA19131\n",
      "Checking sample: HG00344\n",
      "Checking sample: HG00350\n",
      "Checking sample: HG00253\n",
      "Checking sample: NA21102\n",
      "Checking sample: NA20762\n",
      "AssertionError for sample: NA20762 - Mismatch in HiFi files for sample NA20762\n",
      "Checking sample: HG03521\n",
      "Checking sample: HG00235\n",
      "Checking sample: HG03369\n",
      "Checking sample: NA20809\n",
      "Checking sample: NA18565\n",
      "Checking sample: NA20850\n",
      "Checking sample: NA18879\n",
      "Checking sample: HG04153\n",
      "Checking sample: NA20282\n",
      "Checking sample: NA20346\n",
      "Checking sample: HG00329\n",
      "Checking sample: HG00272\n",
      "Checking sample: HG03784\n",
      "Checking sample: NA20806\n",
      "AssertionError for sample: NA20806 - Mismatch in HiFi files for sample NA20806\n",
      "Checking sample: NA19682\n",
      "Checking sample: NA19909\n",
      "Checking sample: NA21144\n",
      "Checking sample: HG00097\n",
      "Checking sample: NA19776\n",
      "Checking sample: NA19835\n",
      "\n",
      "\n",
      "Samples with missing or mismatched files:\n",
      "Sample ID: NA20827\n",
      "HiFi Expected: []\n",
      "HiFi Found: ['']\n",
      "ONT Expected: ['11_28_23_R1041_HPRC_NA20827_2_dorado0.6.0_sup4.3.0_5mCG_5hmCG.bam', '01_23_24_R1041_HPRC_NA20827_1_dorado0.6.0_sup4.3.0_5mCG_5hmCG.bam', '11_28_23_R1041_HPRC_NA20827_3_dorado0.6.0_sup4.3.0_5mCG_5hmCG.bam', '11_28_23_R1041_HPRC_NA20827_1_dorado0.6.0_sup4.3.0_5mCG_5hmCG.bam', '01_23_24_R1041_HPRC_NA20827_2_dorado0.6.0_sup4.3.0_5mCG_5hmCG.bam']\n",
      "ONT Found: ['01_23_24_R1041_HPRC_NA20827_1_dorado0.6.0_sup4.3.0_5mCG_5hmCG.bam', '01_23_24_R1041_HPRC_NA20827_2_dorado0.6.0_sup4.3.0_5mCG_5hmCG.bam', '11_28_23_R1041_HPRC_NA20827_1_dorado0.6.0_sup4.3.0_5mCG_5hmCG.bam', '11_28_23_R1041_HPRC_NA20827_2_dorado0.6.0_sup4.3.0_5mCG_5hmCG.bam', '11_28_23_R1041_HPRC_NA20827_3_dorado0.6.0_sup4.3.0_5mCG_5hmCG.bam']\n",
      "\n",
      "Sample ID: NA20762\n",
      "HiFi Expected: []\n",
      "HiFi Found: ['']\n",
      "ONT Expected: ['01_23_24_R1041_HPRC_NA20762_2_dorado0.6.0_sup4.3.0_5mCG_5hmCG.bam', '10_31_23_R1041_HPRC_NA20762_1_dorado0.6.0_sup4.3.0_5mCG_5hmCG.bam', '10_31_23_R1041_HPRC_NA20762_3_dorado0.6.0_sup4.3.0_5mCG_5hmCG.bam', '01_23_24_R1041_HPRC_NA20762_1_dorado0.6.0_sup4.3.0_5mCG_5hmCG.bam', '10_31_23_R1041_HPRC_NA20762_2_dorado0.6.0_sup4.3.0_5mCG_5hmCG.bam']\n",
      "ONT Found: ['01_23_24_R1041_HPRC_NA20762_1_dorado0.6.0_sup4.3.0_5mCG_5hmCG.bam', '01_23_24_R1041_HPRC_NA20762_2_dorado0.6.0_sup4.3.0_5mCG_5hmCG.bam', '10_31_23_R1041_HPRC_NA20762_1_dorado0.6.0_sup4.3.0_5mCG_5hmCG.bam', '10_31_23_R1041_HPRC_NA20762_2_dorado0.6.0_sup4.3.0_5mCG_5hmCG.bam', '10_31_23_R1041_HPRC_NA20762_3_dorado0.6.0_sup4.3.0_5mCG_5hmCG.bam']\n",
      "\n",
      "Sample ID: NA20806\n",
      "HiFi Expected: []\n",
      "HiFi Found: ['']\n",
      "ONT Expected: ['12_12_23_R1041_HPRC_NA20806_1_dorado0.6.0_sup4.3.0_5mCG_5hmCG.bam', '12_12_23_R1041_HPRC_NA20806_4_dorado0.6.0_sup4.3.0_5mCG_5hmCG.bam', '12_12_23_R1041_HPRC_NA20806_2_dorado0.6.0_sup4.3.0_5mCG_5hmCG.bam', '12_12_23_R1041_HPRC_NA20806_3_dorado0.6.0_sup4.3.0_5mCG_5hmCG.bam']\n",
      "ONT Found: ['12_12_23_R1041_HPRC_NA20806_1_dorado0.6.0_sup4.3.0_5mCG_5hmCG.bam', '12_12_23_R1041_HPRC_NA20806_2_dorado0.6.0_sup4.3.0_5mCG_5hmCG.bam', '12_12_23_R1041_HPRC_NA20806_3_dorado0.6.0_sup4.3.0_5mCG_5hmCG.bam', '12_12_23_R1041_HPRC_NA20806_4_dorado0.6.0_sup4.3.0_5mCG_5hmCG.bam']\n",
      "\n"
     ]
    }
   ],
   "source": [
    "# Find samples that are missing or have mismatched HiFi and ONT files\n",
    "missing_files = []  # List to store missing files information\n",
    "\n",
    "for data in batch11[['sample_id', 'hifi', 'nanopore', 'hic']].values:\n",
    "    sample_id, hifi, nanopore, hic = data[0], data[1], data[2], data[3]\n",
    "    \n",
    "    # Extracting HiFi and ONT sample information\n",
    "    hifi_sample = hifi_metadata[hifi_metadata['sample_ID'].isin([sample_id])]\n",
    "    ont_sample = ont_y4[ont_y4['sample_ID'].isin([sample_id])]\n",
    "\n",
    "    print(f\"Checking sample: {sample_id}\")\n",
    "    \n",
    "    # Check HiFi and ONT files\n",
    "    try:\n",
    "        # Split and compare filenames for HiFi files\n",
    "        hifi_expected = hifi_sample['filename'].tolist()\n",
    "        hifi_found = [filename.split('/')[-1] for filename in hifi]\n",
    "        \n",
    "        # Split and compare filenames for ONT files\n",
    "        ont_expected = ont_sample['filename'].tolist()\n",
    "        ont_found = [filename.split('/')[-1] for filename in nanopore]\n",
    "        \n",
    "        # Check if HiFi filenames match\n",
    "        if sorted(hifi_expected) != sorted(hifi_found):\n",
    "            raise AssertionError(f\"Mismatch in HiFi files for sample {sample_id}\")\n",
    "\n",
    "        # Check if ONT filenames match\n",
    "        if sorted(ont_expected) != sorted(ont_found):\n",
    "            raise AssertionError(f\"Mismatch in ONT files for sample {sample_id}\")\n",
    "\n",
    "    except AssertionError as e:\n",
    "        # If AssertionError occurs, log missing files and the error message\n",
    "        print(f\"AssertionError for sample: {sample_id} - {e}\")\n",
    "        missing_files.append({\n",
    "            'sample_id': sample_id,\n",
    "            'hifi_expected': hifi_expected,\n",
    "            'hifi_found': hifi_found,\n",
    "            'ont_expected': ont_expected,\n",
    "            'ont_found': ont_found\n",
    "        })\n",
    "        continue  # Continue to the next sample\n",
    "\n",
    "print('\\n')\n",
    "# After loop, print out missing or mismatched files\n",
    "if missing_files:\n",
    "    print(\"Samples with missing or mismatched files:\")\n",
    "    for missing in missing_files:\n",
    "        print(f\"Sample ID: {missing['sample_id']}\")\n",
    "        print(f\"HiFi Expected: {missing['hifi_expected']}\")\n",
    "        print(f\"HiFi Found: {missing['hifi_found']}\")\n",
    "        print(f\"ONT Expected: {missing['ont_expected']}\")\n",
    "        print(f\"ONT Found: {missing['ont_found']}\\n\")\n",
    "else:\n",
    "    print(\"No missing or mismatched files found.\")\n"
   ]
  },
  {
   "cell_type": "code",
   "execution_count": 102,
   "metadata": {},
   "outputs": [],
   "source": [
    "# subset out human technopole to start assembly\n",
    "batch11_ht = batch11[batch11['HiFi Prod Site'] == 'Human Technopole']\n",
    "batch11 = batch11[~batch11['HiFi Prod Site'].isin(['Human Technopole'])]"
   ]
  },
  {
   "cell_type": "code",
   "execution_count": 103,
   "metadata": {},
   "outputs": [
    {
     "data": {
      "text/html": [
       "<div>\n",
       "<style scoped>\n",
       "    .dataframe tbody tr th:only-of-type {\n",
       "        vertical-align: middle;\n",
       "    }\n",
       "\n",
       "    .dataframe tbody tr th {\n",
       "        vertical-align: top;\n",
       "    }\n",
       "\n",
       "    .dataframe thead th {\n",
       "        text-align: right;\n",
       "    }\n",
       "</style>\n",
       "<table border=\"1\" class=\"dataframe\">\n",
       "  <thead>\n",
       "    <tr style=\"text-align: right;\">\n",
       "      <th></th>\n",
       "      <th>sample_id</th>\n",
       "      <th>biosample_accession</th>\n",
       "      <th>cohort</th>\n",
       "      <th>Production Year</th>\n",
       "      <th>Sex</th>\n",
       "      <th>isMaleSample</th>\n",
       "      <th>paternal_id</th>\n",
       "      <th>maternal_id</th>\n",
       "      <th>Subpopulation</th>\n",
       "      <th>Superpopulation</th>\n",
       "      <th>HiFi Prod Site</th>\n",
       "      <th>hifi</th>\n",
       "      <th>hifi_cov</th>\n",
       "      <th>nanopore</th>\n",
       "      <th>ont_cov_over100kb</th>\n",
       "      <th>hic</th>\n",
       "      <th>hic_cov</th>\n",
       "      <th>hic_r1</th>\n",
       "      <th>hic_r2</th>\n",
       "    </tr>\n",
       "  </thead>\n",
       "  <tbody>\n",
       "    <tr>\n",
       "      <th>1</th>\n",
       "      <td>NA20827</td>\n",
       "      <td>SAMN41021650</td>\n",
       "      <td>HPRC</td>\n",
       "      <td>YR4</td>\n",
       "      <td>male</td>\n",
       "      <td>True</td>\n",
       "      <td>NaN</td>\n",
       "      <td>NaN</td>\n",
       "      <td>TSI</td>\n",
       "      <td>EUR</td>\n",
       "      <td>Human Technopole</td>\n",
       "      <td>[]</td>\n",
       "      <td>NaN</td>\n",
       "      <td>[s3://human-pangenomics/working/HPRC/NA20827/r...</td>\n",
       "      <td>NaN</td>\n",
       "      <td>[s3://human-pangenomics/submissions/1005B25C-E...</td>\n",
       "      <td>12.54</td>\n",
       "      <td>[s3://human-pangenomics/submissions/1005B25C-E...</td>\n",
       "      <td>[s3://human-pangenomics/submissions/1005B25C-E...</td>\n",
       "    </tr>\n",
       "    <tr>\n",
       "      <th>7</th>\n",
       "      <td>NA20762</td>\n",
       "      <td>SAMN41021652</td>\n",
       "      <td>HPRC</td>\n",
       "      <td>YR4</td>\n",
       "      <td>male</td>\n",
       "      <td>True</td>\n",
       "      <td>NaN</td>\n",
       "      <td>NaN</td>\n",
       "      <td>TSI</td>\n",
       "      <td>EUR</td>\n",
       "      <td>Human Technopole</td>\n",
       "      <td>[]</td>\n",
       "      <td>NaN</td>\n",
       "      <td>[s3://human-pangenomics/working/HPRC/NA20762/r...</td>\n",
       "      <td>NaN</td>\n",
       "      <td>[s3://human-pangenomics/submissions/1005B25C-E...</td>\n",
       "      <td>16.10</td>\n",
       "      <td>[s3://human-pangenomics/submissions/1005B25C-E...</td>\n",
       "      <td>[s3://human-pangenomics/submissions/1005B25C-E...</td>\n",
       "    </tr>\n",
       "    <tr>\n",
       "      <th>21</th>\n",
       "      <td>NA20806</td>\n",
       "      <td>SAMN41021648</td>\n",
       "      <td>HPRC</td>\n",
       "      <td>YR4</td>\n",
       "      <td>male</td>\n",
       "      <td>True</td>\n",
       "      <td>NaN</td>\n",
       "      <td>NaN</td>\n",
       "      <td>TSI</td>\n",
       "      <td>EUR</td>\n",
       "      <td>Human Technopole</td>\n",
       "      <td>[]</td>\n",
       "      <td>NaN</td>\n",
       "      <td>[s3://human-pangenomics/working/HPRC/NA20806/r...</td>\n",
       "      <td>NaN</td>\n",
       "      <td>[s3://human-pangenomics/submissions/1005B25C-E...</td>\n",
       "      <td>35.52</td>\n",
       "      <td>[s3://human-pangenomics/submissions/1005B25C-E...</td>\n",
       "      <td>[s3://human-pangenomics/submissions/1005B25C-E...</td>\n",
       "    </tr>\n",
       "  </tbody>\n",
       "</table>\n",
       "</div>"
      ],
      "text/plain": [
       "   sample_id biosample_accession cohort Production Year   Sex  isMaleSample  paternal_id  maternal_id Subpopulation Superpopulation    HiFi Prod Site hifi  hifi_cov                                           nanopore  ont_cov_over100kb                                                hic  hic_cov                                             hic_r1                                             hic_r2\n",
       "1    NA20827        SAMN41021650   HPRC             YR4  male          True          NaN          NaN           TSI             EUR  Human Technopole   []       NaN  [s3://human-pangenomics/working/HPRC/NA20827/r...                NaN  [s3://human-pangenomics/submissions/1005B25C-E...    12.54  [s3://human-pangenomics/submissions/1005B25C-E...  [s3://human-pangenomics/submissions/1005B25C-E...\n",
       "7    NA20762        SAMN41021652   HPRC             YR4  male          True          NaN          NaN           TSI             EUR  Human Technopole   []       NaN  [s3://human-pangenomics/working/HPRC/NA20762/r...                NaN  [s3://human-pangenomics/submissions/1005B25C-E...    16.10  [s3://human-pangenomics/submissions/1005B25C-E...  [s3://human-pangenomics/submissions/1005B25C-E...\n",
       "21   NA20806        SAMN41021648   HPRC             YR4  male          True          NaN          NaN           TSI             EUR  Human Technopole   []       NaN  [s3://human-pangenomics/working/HPRC/NA20806/r...                NaN  [s3://human-pangenomics/submissions/1005B25C-E...    35.52  [s3://human-pangenomics/submissions/1005B25C-E...  [s3://human-pangenomics/submissions/1005B25C-E..."
      ]
     },
     "execution_count": 103,
     "metadata": {},
     "output_type": "execute_result"
    }
   ],
   "source": [
    "batch11_ht"
   ]
  },
  {
   "cell_type": "code",
   "execution_count": 124,
   "metadata": {},
   "outputs": [],
   "source": [
    "# batch11.loc[batch11['sample_id'] == 'NA19909', 'hifi'] = [['m84081_230523_180945_s1.hifi_reads.bc2005.bam',\n",
    "#                                                            'm84081_230525_172954_s3.hifi_reads.bc2005.bam']]\n"
   ]
  },
  {
   "cell_type": "code",
   "execution_count": null,
   "metadata": {},
   "outputs": [],
   "source": [
    "# # Use a single list as the value for the selected row.\n",
    "# batch11.loc[batch11['sample_id'] == 'NA19909', 'hifi'] = [['m84081_230523_180945_s1.hifi_reads.bc2005.bam',\n",
    "#                                                            'm84081_230525_172954_s3.hifi_reads.bc2005.bam']]\n"
   ]
  },
  {
   "cell_type": "code",
   "execution_count": 104,
   "metadata": {},
   "outputs": [],
   "source": [
    "# add hifi coverage \n",
    "hifi_coverage_df = pd.DataFrame(round(hifi_metadata[hifi_metadata['sample_ID'].isin(batch11.sample_id)].groupby('sample_ID')['total_Gbp'].sum() / 3.1).astype(int))\n",
    "hifi_coverage_df['sample_id'] = hifi_coverage_df.index.tolist()\n",
    "hifi_coverage_df.reset_index(drop=True, inplace=True)\n",
    "hifi_coverage_df.rename(columns={'total_Gbp':'hifi_cov'},inplace=True)\n",
    "hifi_coverage_dict= {data[1]:data[0] for data in hifi_coverage_df.values}\n",
    "batch11['hifi_cov'] = [hifi_coverage_dict[sample] for sample in batch11['sample_id'].tolist()]\n",
    "# hifi_coverage_df.set_index('sample_id').to_dict(orient='index')\n",
    "# batch11.drop('hifi_cov', axis=1, inplace=True)\n",
    "# batch11 = pd.merge(batch11, hifi_coverage_df, on='sample_id', how='inner')"
   ]
  },
  {
   "cell_type": "code",
   "execution_count": 105,
   "metadata": {},
   "outputs": [
    {
     "name": "stderr",
     "output_type": "stream",
     "text": [
      "/data/tmp/ipykernel_1385566/2740621999.py:3: SettingWithCopyWarning: \n",
      "A value is trying to be set on a copy of a slice from a DataFrame\n",
      "\n",
      "See the caveats in the documentation: https://pandas.pydata.org/pandas-docs/stable/user_guide/indexing.html#returning-a-view-versus-a-copy\n",
      "  ont_y4_coverage_df.rename(columns={'sample_ID':'sample_id','100kb+':'ont_cov_over100kb'}, inplace=True)\n"
     ]
    }
   ],
   "source": [
    "# add ont coverage \n",
    "ont_y4_coverage_df = ont_y4[['sample_ID','100kb+']]\n",
    "ont_y4_coverage_df.rename(columns={'sample_ID':'sample_id','100kb+':'ont_cov_over100kb'}, inplace=True)\n",
    "ont_y4_coverage_df = pd.DataFrame(round(ont_y4_coverage_df.groupby('sample_id')['ont_cov_over100kb'].sum()).astype(int))\n",
    "ont_y4_coverage_df['sample_id'] = ont_y4_coverage_df.index.tolist()\n",
    "ont_y4_coverage_df.reset_index(drop=True, inplace=True)\n",
    "ont_y4_coverage_dict = {data[1]:data[0] for data in ont_y4_coverage_df.values}\n",
    "batch11['ont_cov_over100kb'] = [ont_y4_coverage_dict[sample] for sample in batch11['sample_id'].tolist()]\n"
   ]
  },
  {
   "cell_type": "code",
   "execution_count": 74,
   "metadata": {},
   "outputs": [],
   "source": [
    "# check if there are trios\n",
    "# illumina_pedigree_df[illumina_pedigree_df['sample_id'].isin(batch11['sample_id'].tolist())]"
   ]
  },
  {
   "cell_type": "code",
   "execution_count": 106,
   "metadata": {},
   "outputs": [],
   "source": [
    "illumina_dict = {sample[0]:sample[1] for sample in illumina_df[illumina_df['sample_id'].isin(batch11['sample_id'].tolist())][['sample_id','aws-submission-child']].values}"
   ]
  },
  {
   "cell_type": "code",
   "execution_count": 107,
   "metadata": {},
   "outputs": [],
   "source": [
    "batch11['child_ilmn'] = [[illumina_dict[sample]] for sample in batch11['sample_id'].tolist()]"
   ]
  },
  {
   "cell_type": "markdown",
   "metadata": {},
   "source": [
    "DNA extraction with Qiagen MagAttract HMW Kit\n",
    "\n",
    "Sample sheared with Megaruptor1\n",
    "\n",
    "Library Size selected with Sage ELF 1kb-18kb cassette\n",
    "\n",
    "\n",
    "m84081_230523_180945_s1.hifi_reads.bc2005.bam\n",
    "\n",
    "m84081_230525_172954_s3.hifi_reads.bc2005.bam"
   ]
  },
  {
   "cell_type": "code",
   "execution_count": 110,
   "metadata": {},
   "outputs": [],
   "source": [
    "# # Use a single list as the value for the selected row.\n",
    "# batch11.loc[batch11['sample_id'] == 'NA19909', 'hifi'] = [['m84081_230523_180945_s1.hifi_reads.bc2005.bam',\n",
    "#                                                            'm84081_230525_172954_s3.hifi_reads.bc2005.bam']]\n"
   ]
  },
  {
   "cell_type": "code",
   "execution_count": 45,
   "metadata": {},
   "outputs": [],
   "source": [
    "# batch11[batch11['sample_id'].isin(['NA19909'])]\n",
    "# m84081_230523_180945_s1.hifi_reads.bc2005.bam\n",
    "# m84081_230525_172954_s3.hifi_reads.bc2005.bam"
   ]
  },
  {
   "cell_type": "code",
   "execution_count": 35,
   "metadata": {},
   "outputs": [],
   "source": [
    "batch11.to_csv('HPRC_Assembly_S3Locs_batch11.csv',index=False)"
   ]
  },
  {
   "cell_type": "code",
   "execution_count": 126,
   "metadata": {},
   "outputs": [],
   "source": [
    "# manual update on NA19909\n",
    "batch11 = pd.read_csv('HPRC_Assembly_S3Locs_batch11.csv')"
   ]
  },
  {
   "cell_type": "code",
   "execution_count": 132,
   "metadata": {},
   "outputs": [],
   "source": [
    "batch11['hifi']  = batch11['hifi'].apply(ast.literal_eval)"
   ]
  },
  {
   "cell_type": "code",
   "execution_count": 136,
   "metadata": {},
   "outputs": [
    {
     "name": "stdout",
     "output_type": "stream",
     "text": [
      "s3://human-pangenomics/working/HPRC/NA19909/raw_data/PacBio_HiFi/m84081_230523_180945_s1.hifi_reads.bc2005.bam\n",
      "s3://human-pangenomics/working/HPRC/NA19909/raw_data/PacBio_HiFi/m84081_230525_172954_s3.hifi_reads.bc2005.bam\n"
     ]
    }
   ],
   "source": [
    "for data in batch11[batch11['sample_id'].isin(['NA19909'])]['hifi'].tolist()[0]:\n",
    "\tprint(data)"
   ]
  },
  {
   "cell_type": "code",
   "execution_count": 146,
   "metadata": {},
   "outputs": [
    {
     "name": "stderr",
     "output_type": "stream",
     "text": [
      "/data/tmp/ipykernel_1385566/295728187.py:1: FutureWarning: Series.__getitem__ treating keys as positions is deprecated. In a future version, integer keys will always be treated as labels (consistent with DataFrame behavior). To access a value by position, use `ser.iloc[pos]`\n",
      "  round(hifi_metadata[hifi_metadata['filename'].isin(['m84081_230523_180945_s1.hifi_reads.bc2005.bam',\n"
     ]
    },
    {
     "data": {
      "text/plain": [
       "64"
      ]
     },
     "execution_count": 146,
     "metadata": {},
     "output_type": "execute_result"
    }
   ],
   "source": [
    "round(hifi_metadata[hifi_metadata['filename'].isin(['m84081_230523_180945_s1.hifi_reads.bc2005.bam',\n",
    "\t\t\t\t\t\t\t\t'm84081_230525_172954_s3.hifi_reads.bc2005.bam'])].groupby('sample_ID')['total_Gbp'].sum() / 3.1).astype(int)[0]"
   ]
  },
  {
   "cell_type": "code",
   "execution_count": 147,
   "metadata": {},
   "outputs": [
    {
     "name": "stderr",
     "output_type": "stream",
     "text": [
      "/data/tmp/ipykernel_1385566/1591777817.py:1: FutureWarning: Series.__getitem__ treating keys as positions is deprecated. In a future version, integer keys will always be treated as labels (consistent with DataFrame behavior). To access a value by position, use `ser.iloc[pos]`\n",
      "  batch11.loc[batch11['sample_id'] == 'NA19909', 'hifi_cov'] = round(hifi_metadata[hifi_metadata['filename'].isin(['m84081_230523_180945_s1.hifi_reads.bc2005.bam',\n"
     ]
    }
   ],
   "source": [
    "# set new coverage from metadata sheet\n",
    "batch11.loc[batch11['sample_id'] == 'NA19909', 'hifi_cov'] = round(hifi_metadata[hifi_metadata['filename'].isin(['m84081_230523_180945_s1.hifi_reads.bc2005.bam',\n",
    "\t\t\t\t\t\t\t\t'm84081_230525_172954_s3.hifi_reads.bc2005.bam'])].groupby('sample_ID')['total_Gbp'].sum() / 3.1).astype(int)[0]"
   ]
  }
 ],
 "metadata": {
  "kernelspec": {
   "display_name": "Python 3",
   "language": "python",
   "name": "python3"
  },
  "language_info": {
   "codemirror_mode": {
    "name": "ipython",
    "version": 3
   },
   "file_extension": ".py",
   "mimetype": "text/x-python",
   "name": "python",
   "nbconvert_exporter": "python",
   "pygments_lexer": "ipython3",
   "version": "3.10.12"
  }
 },
 "nbformat": 4,
 "nbformat_minor": 2
}
