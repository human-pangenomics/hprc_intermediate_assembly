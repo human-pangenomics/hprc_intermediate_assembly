{
 "cells": [
  {
   "cell_type": "markdown",
   "metadata": {},
   "source": [
    "### Building the inputs csv from datatables"
   ]
  },
  {
   "cell_type": "markdown",
   "metadata": {},
   "source": [
    "Download the data index tables from the github: https://github.com/human-pangenomics/hprc_intermediate_assembly"
   ]
  },
  {
   "cell_type": "code",
   "execution_count": 34,
   "metadata": {},
   "outputs": [
    {
     "name": "stdout",
     "output_type": "stream",
     "text": [
      "File ‘assemblies_pre_release_v0.6.1.index.csv’ already there; not retrieving.\n",
      "\n",
      "File ‘hmm_flagger_ont_data_table.output_s3.csv’ already there; not retrieving.\n",
      "\n"
     ]
    }
   ],
   "source": [
    "# pull latest version of the HPRC R2 Assemblies \n",
    "! wget --no-clobber https://raw.githubusercontent.com/human-pangenomics/hprc_intermediate_assembly/refs/heads/main/data_tables/assemblies_pre_release_v0.6.1.index.csv\n",
    "\n",
    "# pull the alignments from Mobin's HMM Flagger run (need to update for the last batch of samples)\n",
    "! wget --no-clobber https://raw.githubusercontent.com/human-pangenomics/hprc_intermediate_assembly/refs/heads/main/assembly_qc/hmm_flagger_tables_march_18_2025/ont/hmm_flagger_ont_data_table.output_s3.csv"
   ]
  },
  {
   "cell_type": "code",
   "execution_count": 35,
   "metadata": {},
   "outputs": [],
   "source": [
    "import pandas as pd"
   ]
  },
  {
   "cell_type": "code",
   "execution_count": 36,
   "metadata": {},
   "outputs": [],
   "source": [
    "assembly_table = pd.read_csv('assemblies_pre_release_v0.6.1.index.csv', sep=',', comment='#', header=0)\n",
    "ont_data_table = pd.read_csv('hmm_flagger_ont_data_table.output_s3.csv', sep=',', comment='#', header=0)"
   ]
  },
  {
   "cell_type": "markdown",
   "metadata": {},
   "source": [
    "Remove and rename columns"
   ]
  },
  {
   "cell_type": "code",
   "execution_count": 37,
   "metadata": {},
   "outputs": [],
   "source": [
    "# select important columns\n",
    "haplotype_1_table = assembly_table[assembly_table['haplotype'] == 1][['sample_id', 'haplotype', 'assembly_name', 'assembly']]\n",
    "haplotype_2_table = assembly_table[assembly_table['haplotype'] == 2][['sample_id', 'haplotype', 'assembly_name', 'assembly']]\n",
    "\n",
    "# add haplotype labelling to table, accurately labelling based on phasing\n",
    "haplotype_1_table['haplotype'] = haplotype_1_table.apply(lambda x: \"hap1\", axis=1)\n",
    "haplotype_2_table['haplotype'] = haplotype_2_table.apply(lambda x: \"hap2\", axis=1)\n",
    "\n",
    "# rename columns for clarity after merging\n",
    "haplotype_1_table = haplotype_1_table.rename(columns={'haplotype':'hap1_name', 'assembly':'hap1_assembly', 'assembly_name':'hap1_assembly_name'})\n",
    "haplotype_2_table = haplotype_2_table.rename(columns={'haplotype':'hap2_name', 'assembly':'hap2_assembly', 'assembly_name':'hap2_assembly_name'})"
   ]
  },
  {
   "cell_type": "code",
   "execution_count": 38,
   "metadata": {},
   "outputs": [],
   "source": [
    "# select important columns\n",
    "ont_data_table = ont_data_table[['sample_id', 'mapping_info', 'bam']]\n",
    "ont_data_table = ont_data_table.rename(columns={'bam': 'alignment_link'})"
   ]
  },
  {
   "cell_type": "code",
   "execution_count": 39,
   "metadata": {},
   "outputs": [
    {
     "data": {
      "application/vnd.microsoft.datawrangler.viewer.v0+json": {
       "columns": [
        {
         "name": "index",
         "rawType": "int64",
         "type": "integer"
        },
        {
         "name": "sample_id",
         "rawType": "object",
         "type": "string"
        },
        {
         "name": "mapping_info",
         "rawType": "object",
         "type": "string"
        },
        {
         "name": "alignment_link",
         "rawType": "object",
         "type": "string"
        }
       ],
       "conversionMethod": "pd.DataFrame",
       "ref": "2ddf00c3-35a9-4fb8-b556-25ac4c547f07",
       "rows": [
        [
         "0",
         "NA18522",
         "R941_minimap2_2.28",
         "https://s3-us-west-2.amazonaws.com/human-pangenomics/submissions/ca366a13-5bad-487b-8a57-97344e9aa0e4--HPRC_RELEASE_2_SUPPLEMENTARY_ASSEMBLY_QC/NA18522/hprc_r2/assembly_qc/read_alignments/ont/NA18522.R941_minimap2_2.28.corrected.bam"
        ],
        [
         "1",
         "NA18747",
         "R941_minimap2_2.28",
         "https://s3-us-west-2.amazonaws.com/human-pangenomics/submissions/ca366a13-5bad-487b-8a57-97344e9aa0e4--HPRC_RELEASE_2_SUPPLEMENTARY_ASSEMBLY_QC/NA18747/hprc_r2/assembly_qc/read_alignments/ont/NA18747.R941_minimap2_2.28.corrected.bam"
        ],
        [
         "2",
         "NA18971",
         "R941_minimap2_2.28",
         "https://s3-us-west-2.amazonaws.com/human-pangenomics/submissions/ca366a13-5bad-487b-8a57-97344e9aa0e4--HPRC_RELEASE_2_SUPPLEMENTARY_ASSEMBLY_QC/NA18971/hprc_r2/assembly_qc/read_alignments/ont/NA18971.R941_minimap2_2.28.corrected.bam"
        ],
        [
         "3",
         "NA18983",
         "R941_minimap2_2.28",
         "https://s3-us-west-2.amazonaws.com/human-pangenomics/submissions/ca366a13-5bad-487b-8a57-97344e9aa0e4--HPRC_RELEASE_2_SUPPLEMENTARY_ASSEMBLY_QC/NA18983/hprc_r2/assembly_qc/read_alignments/ont/NA18983.R941_minimap2_2.28.corrected.bam"
        ],
        [
         "4",
         "NA19043",
         "R941_minimap2_2.28",
         "https://s3-us-west-2.amazonaws.com/human-pangenomics/submissions/ca366a13-5bad-487b-8a57-97344e9aa0e4--HPRC_RELEASE_2_SUPPLEMENTARY_ASSEMBLY_QC/NA19043/hprc_r2/assembly_qc/read_alignments/ont/NA19043.R941_minimap2_2.28.corrected.bam"
        ],
        [
         "5",
         "NA20905",
         "R941_minimap2_2.28",
         "https://s3-us-west-2.amazonaws.com/human-pangenomics/submissions/ca366a13-5bad-487b-8a57-97344e9aa0e4--HPRC_RELEASE_2_SUPPLEMENTARY_ASSEMBLY_QC/NA20905/hprc_r2/assembly_qc/read_alignments/ont/NA20905.R941_minimap2_2.28.corrected.bam"
        ],
        [
         "6",
         "NA18570",
         "R941_minimap2_2.28",
         "https://s3-us-west-2.amazonaws.com/human-pangenomics/submissions/ca366a13-5bad-487b-8a57-97344e9aa0e4--HPRC_RELEASE_2_SUPPLEMENTARY_ASSEMBLY_QC/NA18570/hprc_r2/assembly_qc/read_alignments/ont/NA18570.R941_minimap2_2.28.corrected.bam"
        ],
        [
         "7",
         "NA19087",
         "R941_minimap2_2.28",
         "https://s3-us-west-2.amazonaws.com/human-pangenomics/submissions/ca366a13-5bad-487b-8a57-97344e9aa0e4--HPRC_RELEASE_2_SUPPLEMENTARY_ASSEMBLY_QC/NA19087/hprc_r2/assembly_qc/read_alignments/ont/NA19087.R941_minimap2_2.28.corrected.bam"
        ],
        [
         "8",
         "NA19185",
         "R941_minimap2_2.28",
         "https://s3-us-west-2.amazonaws.com/human-pangenomics/submissions/ca366a13-5bad-487b-8a57-97344e9aa0e4--HPRC_RELEASE_2_SUPPLEMENTARY_ASSEMBLY_QC/NA19185/hprc_r2/assembly_qc/read_alignments/ont/NA19185.R941_minimap2_2.28.corrected.bam"
        ],
        [
         "9",
         "NA19338",
         "R941_minimap2_2.28",
         "https://s3-us-west-2.amazonaws.com/human-pangenomics/submissions/ca366a13-5bad-487b-8a57-97344e9aa0e4--HPRC_RELEASE_2_SUPPLEMENTARY_ASSEMBLY_QC/NA19338/hprc_r2/assembly_qc/read_alignments/ont/NA19338.R941_minimap2_2.28.corrected.bam"
        ],
        [
         "10",
         "NA19391",
         "R941_minimap2_2.28",
         "https://s3-us-west-2.amazonaws.com/human-pangenomics/submissions/ca366a13-5bad-487b-8a57-97344e9aa0e4--HPRC_RELEASE_2_SUPPLEMENTARY_ASSEMBLY_QC/NA19391/hprc_r2/assembly_qc/read_alignments/ont/NA19391.R941_minimap2_2.28.corrected.bam"
        ],
        [
         "11",
         "NA19468",
         "R941_minimap2_2.28",
         "https://s3-us-west-2.amazonaws.com/human-pangenomics/submissions/ca366a13-5bad-487b-8a57-97344e9aa0e4--HPRC_RELEASE_2_SUPPLEMENTARY_ASSEMBLY_QC/NA19468/hprc_r2/assembly_qc/read_alignments/ont/NA19468.R941_minimap2_2.28.corrected.bam"
        ],
        [
         "12",
         "NA20805",
         "R941_minimap2_2.28",
         "https://s3-us-west-2.amazonaws.com/human-pangenomics/submissions/ca366a13-5bad-487b-8a57-97344e9aa0e4--HPRC_RELEASE_2_SUPPLEMENTARY_ASSEMBLY_QC/NA20805/hprc_r2/assembly_qc/read_alignments/ont/NA20805.R941_minimap2_2.28.corrected.bam"
        ],
        [
         "13",
         "HG03579",
         "R941_minimap2_2.28",
         "https://s3-us-west-2.amazonaws.com/human-pangenomics/submissions/ca366a13-5bad-487b-8a57-97344e9aa0e4--HPRC_RELEASE_2_SUPPLEMENTARY_ASSEMBLY_QC/HG03579/hprc_r2/assembly_qc/read_alignments/ont/HG03579.R941_minimap2_2.28.corrected.bam"
        ],
        [
         "14",
         "HG03540",
         "R941_minimap2_2.28",
         "https://s3-us-west-2.amazonaws.com/human-pangenomics/submissions/ca366a13-5bad-487b-8a57-97344e9aa0e4--HPRC_RELEASE_2_SUPPLEMENTARY_ASSEMBLY_QC/HG03540/hprc_r2/assembly_qc/read_alignments/ont/HG03540.R941_minimap2_2.28.corrected.bam"
        ],
        [
         "15",
         "HG03453",
         "R941_minimap2_2.28",
         "https://s3-us-west-2.amazonaws.com/human-pangenomics/submissions/ca366a13-5bad-487b-8a57-97344e9aa0e4--HPRC_RELEASE_2_SUPPLEMENTARY_ASSEMBLY_QC/HG03453/hprc_r2/assembly_qc/read_alignments/ont/HG03453.R941_minimap2_2.28.corrected.bam"
        ],
        [
         "16",
         "HG02886",
         "R941_minimap2_2.28",
         "https://s3-us-west-2.amazonaws.com/human-pangenomics/submissions/ca366a13-5bad-487b-8a57-97344e9aa0e4--HPRC_RELEASE_2_SUPPLEMENTARY_ASSEMBLY_QC/HG02886/hprc_r2/assembly_qc/read_alignments/ont/HG02886.R941_minimap2_2.28.corrected.bam"
        ],
        [
         "17",
         "HG02717",
         "R941_minimap2_2.28",
         "https://s3-us-west-2.amazonaws.com/human-pangenomics/submissions/ca366a13-5bad-487b-8a57-97344e9aa0e4--HPRC_RELEASE_2_SUPPLEMENTARY_ASSEMBLY_QC/HG02717/hprc_r2/assembly_qc/read_alignments/ont/HG02717.R941_minimap2_2.28.corrected.bam"
        ],
        [
         "18",
         "HG02630",
         "R941_minimap2_2.28",
         "https://s3-us-west-2.amazonaws.com/human-pangenomics/submissions/ca366a13-5bad-487b-8a57-97344e9aa0e4--HPRC_RELEASE_2_SUPPLEMENTARY_ASSEMBLY_QC/HG02630/hprc_r2/assembly_qc/read_alignments/ont/HG02630.R941_minimap2_2.28.corrected.bam"
        ],
        [
         "19",
         "HG02622",
         "R941_minimap2_2.28",
         "https://s3-us-west-2.amazonaws.com/human-pangenomics/submissions/ca366a13-5bad-487b-8a57-97344e9aa0e4--HPRC_RELEASE_2_SUPPLEMENTARY_ASSEMBLY_QC/HG02622/hprc_r2/assembly_qc/read_alignments/ont/HG02622.R941_minimap2_2.28.corrected.bam"
        ],
        [
         "20",
         "HG02572",
         "R941_minimap2_2.28",
         "https://s3-us-west-2.amazonaws.com/human-pangenomics/submissions/ca366a13-5bad-487b-8a57-97344e9aa0e4--HPRC_RELEASE_2_SUPPLEMENTARY_ASSEMBLY_QC/HG02572/hprc_r2/assembly_qc/read_alignments/ont/HG02572.R941_minimap2_2.28.corrected.bam"
        ],
        [
         "21",
         "HG02559",
         "R941_minimap2_2.28",
         "https://s3-us-west-2.amazonaws.com/human-pangenomics/submissions/ca366a13-5bad-487b-8a57-97344e9aa0e4--HPRC_RELEASE_2_SUPPLEMENTARY_ASSEMBLY_QC/HG02559/hprc_r2/assembly_qc/read_alignments/ont/HG02559.R941_minimap2_2.28.corrected.bam"
        ],
        [
         "22",
         "HG02486",
         "R941_minimap2_2.28",
         "https://s3-us-west-2.amazonaws.com/human-pangenomics/submissions/ca366a13-5bad-487b-8a57-97344e9aa0e4--HPRC_RELEASE_2_SUPPLEMENTARY_ASSEMBLY_QC/HG02486/hprc_r2/assembly_qc/read_alignments/ont/HG02486.R941_minimap2_2.28.corrected.bam"
        ],
        [
         "23",
         "HG02148",
         "R941_minimap2_2.28",
         "https://s3-us-west-2.amazonaws.com/human-pangenomics/submissions/ca366a13-5bad-487b-8a57-97344e9aa0e4--HPRC_RELEASE_2_SUPPLEMENTARY_ASSEMBLY_QC/HG02148/hprc_r2/assembly_qc/read_alignments/ont/HG02148.R941_minimap2_2.28.corrected.bam"
        ],
        [
         "24",
         "HG01952",
         "R941_minimap2_2.28",
         "https://s3-us-west-2.amazonaws.com/human-pangenomics/submissions/ca366a13-5bad-487b-8a57-97344e9aa0e4--HPRC_RELEASE_2_SUPPLEMENTARY_ASSEMBLY_QC/HG01952/hprc_r2/assembly_qc/read_alignments/ont/HG01952.R941_minimap2_2.28.corrected.bam"
        ],
        [
         "25",
         "HG01928",
         "R941_minimap2_2.28",
         "https://s3-us-west-2.amazonaws.com/human-pangenomics/submissions/ca366a13-5bad-487b-8a57-97344e9aa0e4--HPRC_RELEASE_2_SUPPLEMENTARY_ASSEMBLY_QC/HG01928/hprc_r2/assembly_qc/read_alignments/ont/HG01928.R941_minimap2_2.28.corrected.bam"
        ],
        [
         "26",
         "HG01891",
         "R941_minimap2_2.28",
         "https://s3-us-west-2.amazonaws.com/human-pangenomics/submissions/ca366a13-5bad-487b-8a57-97344e9aa0e4--HPRC_RELEASE_2_SUPPLEMENTARY_ASSEMBLY_QC/HG01891/hprc_r2/assembly_qc/read_alignments/ont/HG01891.R941_minimap2_2.28.corrected.bam"
        ],
        [
         "27",
         "HG01361",
         "R941_minimap2_2.28",
         "https://s3-us-west-2.amazonaws.com/human-pangenomics/submissions/ca366a13-5bad-487b-8a57-97344e9aa0e4--HPRC_RELEASE_2_SUPPLEMENTARY_ASSEMBLY_QC/HG01361/hprc_r2/assembly_qc/read_alignments/ont/HG01361.R941_minimap2_2.28.corrected.bam"
        ],
        [
         "28",
         "HG01358",
         "R941_minimap2_2.28",
         "https://s3-us-west-2.amazonaws.com/human-pangenomics/submissions/ca366a13-5bad-487b-8a57-97344e9aa0e4--HPRC_RELEASE_2_SUPPLEMENTARY_ASSEMBLY_QC/HG01358/hprc_r2/assembly_qc/read_alignments/ont/HG01358.R941_minimap2_2.28.corrected.bam"
        ],
        [
         "29",
         "HG01258",
         "R941_minimap2_2.28",
         "https://s3-us-west-2.amazonaws.com/human-pangenomics/submissions/ca366a13-5bad-487b-8a57-97344e9aa0e4--HPRC_RELEASE_2_SUPPLEMENTARY_ASSEMBLY_QC/HG01258/hprc_r2/assembly_qc/read_alignments/ont/HG01258.R941_minimap2_2.28.corrected.bam"
        ],
        [
         "30",
         "HG01175",
         "R941_minimap2_2.28",
         "https://s3-us-west-2.amazonaws.com/human-pangenomics/submissions/ca366a13-5bad-487b-8a57-97344e9aa0e4--HPRC_RELEASE_2_SUPPLEMENTARY_ASSEMBLY_QC/HG01175/hprc_r2/assembly_qc/read_alignments/ont/HG01175.R941_minimap2_2.28.corrected.bam"
        ],
        [
         "31",
         "HG01123",
         "R941_minimap2_2.28",
         "https://s3-us-west-2.amazonaws.com/human-pangenomics/submissions/ca366a13-5bad-487b-8a57-97344e9aa0e4--HPRC_RELEASE_2_SUPPLEMENTARY_ASSEMBLY_QC/HG01123/hprc_r2/assembly_qc/read_alignments/ont/HG01123.R941_minimap2_2.28.corrected.bam"
        ],
        [
         "32",
         "HG01106",
         "R941_minimap2_2.28",
         "https://s3-us-west-2.amazonaws.com/human-pangenomics/submissions/ca366a13-5bad-487b-8a57-97344e9aa0e4--HPRC_RELEASE_2_SUPPLEMENTARY_ASSEMBLY_QC/HG01106/hprc_r2/assembly_qc/read_alignments/ont/HG01106.R941_minimap2_2.28.corrected.bam"
        ],
        [
         "33",
         "HG01071",
         "R941_minimap2_2.28",
         "https://s3-us-west-2.amazonaws.com/human-pangenomics/submissions/ca366a13-5bad-487b-8a57-97344e9aa0e4--HPRC_RELEASE_2_SUPPLEMENTARY_ASSEMBLY_QC/HG01071/hprc_r2/assembly_qc/read_alignments/ont/HG01071.R941_minimap2_2.28.corrected.bam"
        ],
        [
         "34",
         "HG00741",
         "R941_minimap2_2.28",
         "https://s3-us-west-2.amazonaws.com/human-pangenomics/submissions/ca366a13-5bad-487b-8a57-97344e9aa0e4--HPRC_RELEASE_2_SUPPLEMENTARY_ASSEMBLY_QC/HG00741/hprc_r2/assembly_qc/read_alignments/ont/HG00741.R941_minimap2_2.28.corrected.bam"
        ],
        [
         "35",
         "HG00735",
         "R941_minimap2_2.28",
         "https://s3-us-west-2.amazonaws.com/human-pangenomics/submissions/ca366a13-5bad-487b-8a57-97344e9aa0e4--HPRC_RELEASE_2_SUPPLEMENTARY_ASSEMBLY_QC/HG00735/hprc_r2/assembly_qc/read_alignments/ont/HG00735.R941_minimap2_2.28.corrected.bam"
        ],
        [
         "36",
         "HG00673",
         "R941_minimap2_2.28",
         "https://s3-us-west-2.amazonaws.com/human-pangenomics/submissions/ca366a13-5bad-487b-8a57-97344e9aa0e4--HPRC_RELEASE_2_SUPPLEMENTARY_ASSEMBLY_QC/HG00673/hprc_r2/assembly_qc/read_alignments/ont/HG00673.R941_minimap2_2.28.corrected.bam"
        ],
        [
         "37",
         "HG00621",
         "R941_minimap2_2.28",
         "https://s3-us-west-2.amazonaws.com/human-pangenomics/submissions/ca366a13-5bad-487b-8a57-97344e9aa0e4--HPRC_RELEASE_2_SUPPLEMENTARY_ASSEMBLY_QC/HG00621/hprc_r2/assembly_qc/read_alignments/ont/HG00621.R941_minimap2_2.28.corrected.bam"
        ],
        [
         "38",
         "HG00438",
         "R941_minimap2_2.28",
         "https://s3-us-west-2.amazonaws.com/human-pangenomics/submissions/ca366a13-5bad-487b-8a57-97344e9aa0e4--HPRC_RELEASE_2_SUPPLEMENTARY_ASSEMBLY_QC/HG00438/hprc_r2/assembly_qc/read_alignments/ont/HG00438.R941_minimap2_2.28.corrected.bam"
        ],
        [
         "39",
         "NA21144",
         "R1041_minimap2_2.28",
         "https://s3-us-west-2.amazonaws.com/human-pangenomics/submissions/ca366a13-5bad-487b-8a57-97344e9aa0e4--HPRC_RELEASE_2_SUPPLEMENTARY_ASSEMBLY_QC/NA21144/hprc_r2/assembly_qc/read_alignments/ont/NA21144.R1041_minimap2_2.28.corrected.bam"
        ],
        [
         "40",
         "NA21110",
         "R1041_minimap2_2.28",
         "https://s3-us-west-2.amazonaws.com/human-pangenomics/submissions/ca366a13-5bad-487b-8a57-97344e9aa0e4--HPRC_RELEASE_2_SUPPLEMENTARY_ASSEMBLY_QC/NA21110/hprc_r2/assembly_qc/read_alignments/ont/NA21110.R1041_minimap2_2.28.corrected.bam"
        ],
        [
         "41",
         "NA21106",
         "R1041_minimap2_2.28",
         "https://s3-us-west-2.amazonaws.com/human-pangenomics/submissions/ca366a13-5bad-487b-8a57-97344e9aa0e4--HPRC_RELEASE_2_SUPPLEMENTARY_ASSEMBLY_QC/NA21106/hprc_r2/assembly_qc/read_alignments/ont/NA21106.R1041_minimap2_2.28.corrected.bam"
        ],
        [
         "42",
         "NA21102",
         "R1041_minimap2_2.28",
         "https://s3-us-west-2.amazonaws.com/human-pangenomics/submissions/ca366a13-5bad-487b-8a57-97344e9aa0e4--HPRC_RELEASE_2_SUPPLEMENTARY_ASSEMBLY_QC/NA21102/hprc_r2/assembly_qc/read_alignments/ont/NA21102.R1041_minimap2_2.28.corrected.bam"
        ],
        [
         "43",
         "NA21093",
         "R1041_minimap2_2.28",
         "https://s3-us-west-2.amazonaws.com/human-pangenomics/submissions/ca366a13-5bad-487b-8a57-97344e9aa0e4--HPRC_RELEASE_2_SUPPLEMENTARY_ASSEMBLY_QC/NA21093/hprc_r2/assembly_qc/read_alignments/ont/NA21093.R1041_minimap2_2.28.corrected.bam"
        ],
        [
         "44",
         "NA20870",
         "R1041_minimap2_2.28",
         "https://s3-us-west-2.amazonaws.com/human-pangenomics/submissions/ca366a13-5bad-487b-8a57-97344e9aa0e4--HPRC_RELEASE_2_SUPPLEMENTARY_ASSEMBLY_QC/NA20870/hprc_r2/assembly_qc/read_alignments/ont/NA20870.R1041_minimap2_2.28.corrected.bam"
        ],
        [
         "45",
         "NA20850",
         "R1041_minimap2_2.28",
         "https://s3-us-west-2.amazonaws.com/human-pangenomics/submissions/ca366a13-5bad-487b-8a57-97344e9aa0e4--HPRC_RELEASE_2_SUPPLEMENTARY_ASSEMBLY_QC/NA20850/hprc_r2/assembly_qc/read_alignments/ont/NA20850.R1041_minimap2_2.28.corrected.bam"
        ],
        [
         "46",
         "NA20809",
         "R1041_minimap2_2.28",
         "https://s3-us-west-2.amazonaws.com/human-pangenomics/submissions/ca366a13-5bad-487b-8a57-97344e9aa0e4--HPRC_RELEASE_2_SUPPLEMENTARY_ASSEMBLY_QC/NA20809/hprc_r2/assembly_qc/read_alignments/ont/NA20809.R1041_minimap2_2.28.corrected.bam"
        ],
        [
         "47",
         "NA20346",
         "R1041_minimap2_2.28",
         "https://s3-us-west-2.amazonaws.com/human-pangenomics/submissions/ca366a13-5bad-487b-8a57-97344e9aa0e4--HPRC_RELEASE_2_SUPPLEMENTARY_ASSEMBLY_QC/NA20346/hprc_r2/assembly_qc/read_alignments/ont/NA20346.R1041_minimap2_2.28.corrected.bam"
        ],
        [
         "48",
         "NA20282",
         "R1041_minimap2_2.28",
         "https://s3-us-west-2.amazonaws.com/human-pangenomics/submissions/ca366a13-5bad-487b-8a57-97344e9aa0e4--HPRC_RELEASE_2_SUPPLEMENTARY_ASSEMBLY_QC/NA20282/hprc_r2/assembly_qc/read_alignments/ont/NA20282.R1041_minimap2_2.28.corrected.bam"
        ],
        [
         "49",
         "NA19909",
         "R1041_minimap2_2.28",
         "https://s3-us-west-2.amazonaws.com/human-pangenomics/submissions/ca366a13-5bad-487b-8a57-97344e9aa0e4--HPRC_RELEASE_2_SUPPLEMENTARY_ASSEMBLY_QC/NA19909/hprc_r2/assembly_qc/read_alignments/ont/NA19909.R1041_minimap2_2.28.corrected.bam"
        ]
       ],
       "shape": {
        "columns": 3,
        "rows": 231
       }
      },
      "text/html": [
       "<div>\n",
       "<style scoped>\n",
       "    .dataframe tbody tr th:only-of-type {\n",
       "        vertical-align: middle;\n",
       "    }\n",
       "\n",
       "    .dataframe tbody tr th {\n",
       "        vertical-align: top;\n",
       "    }\n",
       "\n",
       "    .dataframe thead th {\n",
       "        text-align: right;\n",
       "    }\n",
       "</style>\n",
       "<table border=\"1\" class=\"dataframe\">\n",
       "  <thead>\n",
       "    <tr style=\"text-align: right;\">\n",
       "      <th></th>\n",
       "      <th>sample_id</th>\n",
       "      <th>mapping_info</th>\n",
       "      <th>alignment_link</th>\n",
       "    </tr>\n",
       "  </thead>\n",
       "  <tbody>\n",
       "    <tr>\n",
       "      <th>0</th>\n",
       "      <td>NA18522</td>\n",
       "      <td>R941_minimap2_2.28</td>\n",
       "      <td>https://s3-us-west-2.amazonaws.com/human-pange...</td>\n",
       "    </tr>\n",
       "    <tr>\n",
       "      <th>1</th>\n",
       "      <td>NA18747</td>\n",
       "      <td>R941_minimap2_2.28</td>\n",
       "      <td>https://s3-us-west-2.amazonaws.com/human-pange...</td>\n",
       "    </tr>\n",
       "    <tr>\n",
       "      <th>2</th>\n",
       "      <td>NA18971</td>\n",
       "      <td>R941_minimap2_2.28</td>\n",
       "      <td>https://s3-us-west-2.amazonaws.com/human-pange...</td>\n",
       "    </tr>\n",
       "    <tr>\n",
       "      <th>3</th>\n",
       "      <td>NA18983</td>\n",
       "      <td>R941_minimap2_2.28</td>\n",
       "      <td>https://s3-us-west-2.amazonaws.com/human-pange...</td>\n",
       "    </tr>\n",
       "    <tr>\n",
       "      <th>4</th>\n",
       "      <td>NA19043</td>\n",
       "      <td>R941_minimap2_2.28</td>\n",
       "      <td>https://s3-us-west-2.amazonaws.com/human-pange...</td>\n",
       "    </tr>\n",
       "    <tr>\n",
       "      <th>...</th>\n",
       "      <td>...</td>\n",
       "      <td>...</td>\n",
       "      <td>...</td>\n",
       "    </tr>\n",
       "    <tr>\n",
       "      <th>226</th>\n",
       "      <td>NA20503</td>\n",
       "      <td>R1041_minimap2_2.28</td>\n",
       "      <td>https://s3-us-west-2.amazonaws.com/human-pange...</td>\n",
       "    </tr>\n",
       "    <tr>\n",
       "      <th>227</th>\n",
       "      <td>NA20762</td>\n",
       "      <td>R1041_minimap2_2.28</td>\n",
       "      <td>https://s3-us-west-2.amazonaws.com/human-pange...</td>\n",
       "    </tr>\n",
       "    <tr>\n",
       "      <th>228</th>\n",
       "      <td>NA20806</td>\n",
       "      <td>R1041_minimap2_2.28</td>\n",
       "      <td>https://s3-us-west-2.amazonaws.com/human-pange...</td>\n",
       "    </tr>\n",
       "    <tr>\n",
       "      <th>229</th>\n",
       "      <td>NA20827</td>\n",
       "      <td>R1041_minimap2_2.28</td>\n",
       "      <td>https://s3-us-west-2.amazonaws.com/human-pange...</td>\n",
       "    </tr>\n",
       "    <tr>\n",
       "      <th>230</th>\n",
       "      <td>HG06807</td>\n",
       "      <td>R1041_minimap2_2.28</td>\n",
       "      <td>https://s3-us-west-2.amazonaws.com/human-pange...</td>\n",
       "    </tr>\n",
       "  </tbody>\n",
       "</table>\n",
       "<p>231 rows × 3 columns</p>\n",
       "</div>"
      ],
      "text/plain": [
       "    sample_id         mapping_info  \\\n",
       "0     NA18522   R941_minimap2_2.28   \n",
       "1     NA18747   R941_minimap2_2.28   \n",
       "2     NA18971   R941_minimap2_2.28   \n",
       "3     NA18983   R941_minimap2_2.28   \n",
       "4     NA19043   R941_minimap2_2.28   \n",
       "..        ...                  ...   \n",
       "226   NA20503  R1041_minimap2_2.28   \n",
       "227   NA20762  R1041_minimap2_2.28   \n",
       "228   NA20806  R1041_minimap2_2.28   \n",
       "229   NA20827  R1041_minimap2_2.28   \n",
       "230   HG06807  R1041_minimap2_2.28   \n",
       "\n",
       "                                        alignment_link  \n",
       "0    https://s3-us-west-2.amazonaws.com/human-pange...  \n",
       "1    https://s3-us-west-2.amazonaws.com/human-pange...  \n",
       "2    https://s3-us-west-2.amazonaws.com/human-pange...  \n",
       "3    https://s3-us-west-2.amazonaws.com/human-pange...  \n",
       "4    https://s3-us-west-2.amazonaws.com/human-pange...  \n",
       "..                                                 ...  \n",
       "226  https://s3-us-west-2.amazonaws.com/human-pange...  \n",
       "227  https://s3-us-west-2.amazonaws.com/human-pange...  \n",
       "228  https://s3-us-west-2.amazonaws.com/human-pange...  \n",
       "229  https://s3-us-west-2.amazonaws.com/human-pange...  \n",
       "230  https://s3-us-west-2.amazonaws.com/human-pange...  \n",
       "\n",
       "[231 rows x 3 columns]"
      ]
     },
     "execution_count": 39,
     "metadata": {},
     "output_type": "execute_result"
    }
   ],
   "source": [
    "ont_data_table"
   ]
  },
  {
   "cell_type": "markdown",
   "metadata": {},
   "source": [
    "Join on sample id and save WDL inputs to csv"
   ]
  },
  {
   "cell_type": "code",
   "execution_count": 40,
   "metadata": {},
   "outputs": [],
   "source": [
    "# join haplotype tables based on the sample_id\n",
    "modkit_inputs_table = pd.merge(haplotype_1_table, haplotype_2_table, on='sample_id', how='inner')\n",
    "modkit_inputs_table = pd.merge(modkit_inputs_table, ont_data_table, on='sample_id', how='inner')"
   ]
  },
  {
   "cell_type": "code",
   "execution_count": 44,
   "metadata": {},
   "outputs": [],
   "source": [
    "# sort columns of modkit_inputs_table to be in order [sample_id, hap1_name, hap2_name, phasing, hap1_assembly, hap2_assembly, alignment_link]\n",
    "modkit_inputs_table = modkit_inputs_table[['sample_id', 'mapping_info', 'alignment_link', 'hap1_assembly_name', 'hap1_assembly', 'hap2_assembly_name', 'hap2_assembly']]"
   ]
  },
  {
   "cell_type": "code",
   "execution_count": 45,
   "metadata": {},
   "outputs": [],
   "source": [
    "modkit_inputs_table['alignment_link'] = modkit_inputs_table['alignment_link'].str.replace('https://s3-us-west-2.amazonaws.com/', 's3://')"
   ]
  },
  {
   "cell_type": "code",
   "execution_count": 46,
   "metadata": {},
   "outputs": [
    {
     "data": {
      "application/vnd.microsoft.datawrangler.viewer.v0+json": {
       "columns": [
        {
         "name": "index",
         "rawType": "int64",
         "type": "integer"
        },
        {
         "name": "sample_id",
         "rawType": "object",
         "type": "string"
        },
        {
         "name": "mapping_info",
         "rawType": "object",
         "type": "string"
        },
        {
         "name": "alignment_link",
         "rawType": "object",
         "type": "string"
        },
        {
         "name": "hap1_assembly_name",
         "rawType": "object",
         "type": "string"
        },
        {
         "name": "hap1_assembly",
         "rawType": "object",
         "type": "string"
        },
        {
         "name": "hap2_assembly_name",
         "rawType": "object",
         "type": "string"
        },
        {
         "name": "hap2_assembly",
         "rawType": "object",
         "type": "string"
        }
       ],
       "conversionMethod": "pd.DataFrame",
       "ref": "38e58d7a-d284-4d14-be05-a7132ff23c11",
       "rows": [
        [
         "0",
         "HG00408",
         "R941_minimap2_2.28",
         "s3://human-pangenomics/submissions/ca366a13-5bad-487b-8a57-97344e9aa0e4--HPRC_RELEASE_2_SUPPLEMENTARY_ASSEMBLY_QC/HG00408/hprc_r2/assembly_qc/read_alignments/ont/HG00408.R941_minimap2_2.28.corrected.bam",
         "HG00408_pat_hprc_r2_v1.0.1",
         "s3://human-pangenomics/submissions/DC27718F-5F38-43B0-9A78-270F395F13E8--INT_ASM_PRODUCTION/HG00408/assemblies/freeze_2/HG00408_pat_hprc_r2_v1.0.1.fa.gz",
         "HG00408_mat_hprc_r2_v1.0.1",
         "s3://human-pangenomics/submissions/DC27718F-5F38-43B0-9A78-270F395F13E8--INT_ASM_PRODUCTION/HG00408/assemblies/freeze_2/HG00408_mat_hprc_r2_v1.0.1.fa.gz"
        ],
        [
         "1",
         "HG00597",
         "R941_minimap2_2.28",
         "s3://human-pangenomics/submissions/ca366a13-5bad-487b-8a57-97344e9aa0e4--HPRC_RELEASE_2_SUPPLEMENTARY_ASSEMBLY_QC/HG00597/hprc_r2/assembly_qc/read_alignments/ont/HG00597.R941_minimap2_2.28.corrected.bam",
         "HG00597_pat_hprc_r2_v1.0.1",
         "s3://human-pangenomics/submissions/DC27718F-5F38-43B0-9A78-270F395F13E8--INT_ASM_PRODUCTION/HG00597/assemblies/freeze_2/HG00597_pat_hprc_r2_v1.0.1.fa.gz",
         "HG00597_mat_hprc_r2_v1.0.1",
         "s3://human-pangenomics/submissions/DC27718F-5F38-43B0-9A78-270F395F13E8--INT_ASM_PRODUCTION/HG00597/assemblies/freeze_2/HG00597_mat_hprc_r2_v1.0.1.fa.gz"
        ],
        [
         "2",
         "HG01192",
         "R941_minimap2_2.28",
         "s3://human-pangenomics/submissions/ca366a13-5bad-487b-8a57-97344e9aa0e4--HPRC_RELEASE_2_SUPPLEMENTARY_ASSEMBLY_QC/HG01192/hprc_r2/assembly_qc/read_alignments/ont/HG01192.R941_minimap2_2.28.corrected.bam",
         "HG01192_pat_hprc_r2_v1.0.1",
         "s3://human-pangenomics/submissions/DC27718F-5F38-43B0-9A78-270F395F13E8--INT_ASM_PRODUCTION/HG01192/assemblies/freeze_2/HG01192_pat_hprc_r2_v1.0.1.fa.gz",
         "HG01192_mat_hprc_r2_v1.0.1",
         "s3://human-pangenomics/submissions/DC27718F-5F38-43B0-9A78-270F395F13E8--INT_ASM_PRODUCTION/HG01192/assemblies/freeze_2/HG01192_mat_hprc_r2_v1.0.1.fa.gz"
        ],
        [
         "3",
         "HG01261",
         "R941_minimap2_2.28",
         "s3://human-pangenomics/submissions/ca366a13-5bad-487b-8a57-97344e9aa0e4--HPRC_RELEASE_2_SUPPLEMENTARY_ASSEMBLY_QC/HG01261/hprc_r2/assembly_qc/read_alignments/ont/HG01261.R941_minimap2_2.28.corrected.bam",
         "HG01261_pat_hprc_r2_v1.0.1",
         "s3://human-pangenomics/submissions/DC27718F-5F38-43B0-9A78-270F395F13E8--INT_ASM_PRODUCTION/HG01261/assemblies/freeze_2/HG01261_pat_hprc_r2_v1.0.1.fa.gz",
         "HG01261_mat_hprc_r2_v1.0.1",
         "s3://human-pangenomics/submissions/DC27718F-5F38-43B0-9A78-270F395F13E8--INT_ASM_PRODUCTION/HG01261/assemblies/freeze_2/HG01261_mat_hprc_r2_v1.0.1.fa.gz"
        ],
        [
         "4",
         "HG02015",
         "R941_minimap2_2.28",
         "s3://human-pangenomics/submissions/ca366a13-5bad-487b-8a57-97344e9aa0e4--HPRC_RELEASE_2_SUPPLEMENTARY_ASSEMBLY_QC/HG02015/hprc_r2/assembly_qc/read_alignments/ont/HG02015.R941_minimap2_2.28.corrected.bam",
         "HG02015_pat_hprc_r2_v1.0.1",
         "s3://human-pangenomics/submissions/DC27718F-5F38-43B0-9A78-270F395F13E8--INT_ASM_PRODUCTION/HG02015/assemblies/freeze_2/HG02015_pat_hprc_r2_v1.0.1.fa.gz",
         "HG02015_mat_hprc_r2_v1.0.1",
         "s3://human-pangenomics/submissions/DC27718F-5F38-43B0-9A78-270F395F13E8--INT_ASM_PRODUCTION/HG02015/assemblies/freeze_2/HG02015_mat_hprc_r2_v1.0.1.fa.gz"
        ],
        [
         "5",
         "HG02056",
         "R941_minimap2_2.28",
         "s3://human-pangenomics/submissions/ca366a13-5bad-487b-8a57-97344e9aa0e4--HPRC_RELEASE_2_SUPPLEMENTARY_ASSEMBLY_QC/HG02056/hprc_r2/assembly_qc/read_alignments/ont/HG02056.R941_minimap2_2.28.corrected.bam",
         "HG02056_pat_hprc_r2_v1.0.1",
         "s3://human-pangenomics/submissions/DC27718F-5F38-43B0-9A78-270F395F13E8--INT_ASM_PRODUCTION/HG02056/assemblies/freeze_2/HG02056_pat_hprc_r2_v1.0.1.fa.gz",
         "HG02056_mat_hprc_r2_v1.0.1",
         "s3://human-pangenomics/submissions/DC27718F-5F38-43B0-9A78-270F395F13E8--INT_ASM_PRODUCTION/HG02056/assemblies/freeze_2/HG02056_mat_hprc_r2_v1.0.1.fa.gz"
        ],
        [
         "6",
         "HG02129",
         "R941_minimap2_2.28",
         "s3://human-pangenomics/submissions/ca366a13-5bad-487b-8a57-97344e9aa0e4--HPRC_RELEASE_2_SUPPLEMENTARY_ASSEMBLY_QC/HG02129/hprc_r2/assembly_qc/read_alignments/ont/HG02129.R941_minimap2_2.28.corrected.bam",
         "HG02129_pat_hprc_r2_v1.0.1",
         "s3://human-pangenomics/submissions/DC27718F-5F38-43B0-9A78-270F395F13E8--INT_ASM_PRODUCTION/HG02129/assemblies/freeze_2/HG02129_pat_hprc_r2_v1.0.1.fa.gz",
         "HG02129_mat_hprc_r2_v1.0.1",
         "s3://human-pangenomics/submissions/DC27718F-5F38-43B0-9A78-270F395F13E8--INT_ASM_PRODUCTION/HG02129/assemblies/freeze_2/HG02129_mat_hprc_r2_v1.0.1.fa.gz"
        ],
        [
         "7",
         "HG02258",
         "R941_minimap2_2.28",
         "s3://human-pangenomics/submissions/ca366a13-5bad-487b-8a57-97344e9aa0e4--HPRC_RELEASE_2_SUPPLEMENTARY_ASSEMBLY_QC/HG02258/hprc_r2/assembly_qc/read_alignments/ont/HG02258.R941_minimap2_2.28.corrected.bam",
         "HG02258_pat_hprc_r2_v1.0.1",
         "s3://human-pangenomics/submissions/DC27718F-5F38-43B0-9A78-270F395F13E8--INT_ASM_PRODUCTION/HG02258/assemblies/freeze_2/HG02258_pat_hprc_r2_v1.0.1.fa.gz",
         "HG02258_mat_hprc_r2_v1.0.1",
         "s3://human-pangenomics/submissions/DC27718F-5F38-43B0-9A78-270F395F13E8--INT_ASM_PRODUCTION/HG02258/assemblies/freeze_2/HG02258_mat_hprc_r2_v1.0.1.fa.gz"
        ],
        [
         "8",
         "HG03834",
         "R941_minimap2_2.28",
         "s3://human-pangenomics/submissions/ca366a13-5bad-487b-8a57-97344e9aa0e4--HPRC_RELEASE_2_SUPPLEMENTARY_ASSEMBLY_QC/HG03834/hprc_r2/assembly_qc/read_alignments/ont/HG03834.R941_minimap2_2.28.corrected.bam",
         "HG03834_pat_hprc_r2_v1.0.1",
         "s3://human-pangenomics/submissions/DC27718F-5F38-43B0-9A78-270F395F13E8--INT_ASM_PRODUCTION/HG03834/assemblies/freeze_2/HG03834_pat_hprc_r2_v1.0.1.fa.gz",
         "HG03834_mat_hprc_r2_v1.0.1",
         "s3://human-pangenomics/submissions/DC27718F-5F38-43B0-9A78-270F395F13E8--INT_ASM_PRODUCTION/HG03834/assemblies/freeze_2/HG03834_mat_hprc_r2_v1.0.1.fa.gz"
        ],
        [
         "9",
         "HG01975",
         "R941_minimap2_2.28",
         "s3://human-pangenomics/submissions/ca366a13-5bad-487b-8a57-97344e9aa0e4--HPRC_RELEASE_2_SUPPLEMENTARY_ASSEMBLY_QC/HG01975/hprc_r2/assembly_qc/read_alignments/ont/HG01975.R941_minimap2_2.28.corrected.bam",
         "HG01975_pat_hprc_r2_v1.0.1",
         "s3://human-pangenomics/submissions/DC27718F-5F38-43B0-9A78-270F395F13E8--INT_ASM_PRODUCTION/HG01975/assemblies/freeze_2/HG01975_pat_hprc_r2_v1.0.1.fa.gz",
         "HG01975_mat_hprc_r2_v1.0.1",
         "s3://human-pangenomics/submissions/DC27718F-5F38-43B0-9A78-270F395F13E8--INT_ASM_PRODUCTION/HG01975/assemblies/freeze_2/HG01975_mat_hprc_r2_v1.0.1.fa.gz"
        ],
        [
         "10",
         "HG02602",
         "R941_minimap2_2.28",
         "s3://human-pangenomics/submissions/ca366a13-5bad-487b-8a57-97344e9aa0e4--HPRC_RELEASE_2_SUPPLEMENTARY_ASSEMBLY_QC/HG02602/hprc_r2/assembly_qc/read_alignments/ont/HG02602.R941_minimap2_2.28.corrected.bam",
         "HG02602_pat_hprc_r2_v1.0.1",
         "s3://human-pangenomics/submissions/DC27718F-5F38-43B0-9A78-270F395F13E8--INT_ASM_PRODUCTION/HG02602/assemblies/freeze_2/HG02602_pat_hprc_r2_v1.0.1.fa.gz",
         "HG02602_mat_hprc_r2_v1.0.1",
         "s3://human-pangenomics/submissions/DC27718F-5F38-43B0-9A78-270F395F13E8--INT_ASM_PRODUCTION/HG02602/assemblies/freeze_2/HG02602_mat_hprc_r2_v1.0.1.fa.gz"
        ],
        [
         "11",
         "HG04187",
         "R941_minimap2_2.28",
         "s3://human-pangenomics/submissions/ca366a13-5bad-487b-8a57-97344e9aa0e4--HPRC_RELEASE_2_SUPPLEMENTARY_ASSEMBLY_QC/HG04187/hprc_r2/assembly_qc/read_alignments/ont/HG04187.R941_minimap2_2.28.corrected.bam",
         "HG04187_pat_hprc_r2_v1.0.1",
         "s3://human-pangenomics/submissions/DC27718F-5F38-43B0-9A78-270F395F13E8--INT_ASM_PRODUCTION/HG04187/assemblies/freeze_2/HG04187_pat_hprc_r2_v1.0.1.fa.gz",
         "HG04187_mat_hprc_r2_v1.0.1",
         "s3://human-pangenomics/submissions/DC27718F-5F38-43B0-9A78-270F395F13E8--INT_ASM_PRODUCTION/HG04187/assemblies/freeze_2/HG04187_mat_hprc_r2_v1.0.1.fa.gz"
        ],
        [
         "12",
         "NA18879",
         "R1041_minimap2_2.28",
         "s3://human-pangenomics/submissions/ca366a13-5bad-487b-8a57-97344e9aa0e4--HPRC_RELEASE_2_SUPPLEMENTARY_ASSEMBLY_QC/NA18879/hprc_r2/assembly_qc/read_alignments/ont/NA18879.R1041_minimap2_2.28.corrected.bam",
         "NA18879_hap1_hprc_r2_v1.0.1",
         "s3://human-pangenomics/submissions/DC27718F-5F38-43B0-9A78-270F395F13E8--INT_ASM_PRODUCTION/NA18879/assemblies/freeze_2/NA18879_hap1_hprc_r2_v1.0.1.fa.gz",
         "NA18879_hap2_hprc_r2_v1.0.1",
         "s3://human-pangenomics/submissions/DC27718F-5F38-43B0-9A78-270F395F13E8--INT_ASM_PRODUCTION/NA18879/assemblies/freeze_2/NA18879_hap2_hprc_r2_v1.0.1.fa.gz"
        ],
        [
         "13",
         "NA20752",
         "R941_minimap2_2.28",
         "s3://human-pangenomics/submissions/ca366a13-5bad-487b-8a57-97344e9aa0e4--HPRC_RELEASE_2_SUPPLEMENTARY_ASSEMBLY_QC/NA20752/hprc_r2/assembly_qc/read_alignments/ont/NA20752.R941_minimap2_2.28.corrected.bam",
         "NA20752_hap1_hprc_r2_v1.0.1",
         "s3://human-pangenomics/submissions/DC27718F-5F38-43B0-9A78-270F395F13E8--INT_ASM_PRODUCTION/NA20752/assemblies/freeze_2/NA20752_hap1_hprc_r2_v1.0.1.fa.gz",
         "NA20752_hap2_hprc_r2_v1.0.1",
         "s3://human-pangenomics/submissions/DC27718F-5F38-43B0-9A78-270F395F13E8--INT_ASM_PRODUCTION/NA20752/assemblies/freeze_2/NA20752_hap2_hprc_r2_v1.0.1.fa.gz"
        ],
        [
         "14",
         "HG02145",
         "R941_minimap2_2.28",
         "s3://human-pangenomics/submissions/ca366a13-5bad-487b-8a57-97344e9aa0e4--HPRC_RELEASE_2_SUPPLEMENTARY_ASSEMBLY_QC/HG02145/hprc_r2/assembly_qc/read_alignments/ont/HG02145.R941_minimap2_2.28.corrected.bam",
         "HG02145_pat_hprc_r2_v1.0.1",
         "s3://human-pangenomics/submissions/DC27718F-5F38-43B0-9A78-270F395F13E8--INT_ASM_PRODUCTION/HG02145/assemblies/freeze_2/HG02145_pat_hprc_r2_v1.0.1.fa.gz",
         "HG02145_mat_hprc_r2_v1.0.1",
         "s3://human-pangenomics/submissions/DC27718F-5F38-43B0-9A78-270F395F13E8--INT_ASM_PRODUCTION/HG02145/assemblies/freeze_2/HG02145_mat_hprc_r2_v1.0.1.fa.gz"
        ],
        [
         "15",
         "HG00609",
         "R941_minimap2_2.28",
         "s3://human-pangenomics/submissions/ca366a13-5bad-487b-8a57-97344e9aa0e4--HPRC_RELEASE_2_SUPPLEMENTARY_ASSEMBLY_QC/HG00609/hprc_r2/assembly_qc/read_alignments/ont/HG00609.R941_minimap2_2.28.corrected.bam",
         "HG00609_pat_hprc_r2_v1.0.1",
         "s3://human-pangenomics/submissions/DC27718F-5F38-43B0-9A78-270F395F13E8--INT_ASM_PRODUCTION/HG00609/assemblies/freeze_2/HG00609_pat_hprc_r2_v1.0.1.fa.gz",
         "HG00609_mat_hprc_r2_v1.0.1",
         "s3://human-pangenomics/submissions/DC27718F-5F38-43B0-9A78-270F395F13E8--INT_ASM_PRODUCTION/HG00609/assemblies/freeze_2/HG00609_mat_hprc_r2_v1.0.1.fa.gz"
        ],
        [
         "16",
         "HG00642",
         "R941_minimap2_2.28",
         "s3://human-pangenomics/submissions/ca366a13-5bad-487b-8a57-97344e9aa0e4--HPRC_RELEASE_2_SUPPLEMENTARY_ASSEMBLY_QC/HG00642/hprc_r2/assembly_qc/read_alignments/ont/HG00642.R941_minimap2_2.28.corrected.bam",
         "HG00642_pat_hprc_r2_v1.0.1",
         "s3://human-pangenomics/submissions/DC27718F-5F38-43B0-9A78-270F395F13E8--INT_ASM_PRODUCTION/HG00642/assemblies/freeze_2/HG00642_pat_hprc_r2_v1.0.1.fa.gz",
         "HG00642_mat_hprc_r2_v1.0.1",
         "s3://human-pangenomics/submissions/DC27718F-5F38-43B0-9A78-270F395F13E8--INT_ASM_PRODUCTION/HG00642/assemblies/freeze_2/HG00642_mat_hprc_r2_v1.0.1.fa.gz"
        ],
        [
         "17",
         "HG00738",
         "R941_minimap2_2.28",
         "s3://human-pangenomics/submissions/ca366a13-5bad-487b-8a57-97344e9aa0e4--HPRC_RELEASE_2_SUPPLEMENTARY_ASSEMBLY_QC/HG00738/hprc_r2/assembly_qc/read_alignments/ont/HG00738.R941_minimap2_2.28.corrected.bam",
         "HG00738_pat_hprc_r2_v1.0.1",
         "s3://human-pangenomics/submissions/DC27718F-5F38-43B0-9A78-270F395F13E8--INT_ASM_PRODUCTION/HG00738/assemblies/freeze_2/HG00738_pat_hprc_r2_v1.0.1.fa.gz",
         "HG00738_mat_hprc_r2_v1.0.1",
         "s3://human-pangenomics/submissions/DC27718F-5F38-43B0-9A78-270F395F13E8--INT_ASM_PRODUCTION/HG00738/assemblies/freeze_2/HG00738_mat_hprc_r2_v1.0.1.fa.gz"
        ],
        [
         "18",
         "HG01099",
         "R941_minimap2_2.28",
         "s3://human-pangenomics/submissions/ca366a13-5bad-487b-8a57-97344e9aa0e4--HPRC_RELEASE_2_SUPPLEMENTARY_ASSEMBLY_QC/HG01099/hprc_r2/assembly_qc/read_alignments/ont/HG01099.R941_minimap2_2.28.corrected.bam",
         "HG01099_pat_hprc_r2_v1.0.1",
         "s3://human-pangenomics/submissions/DC27718F-5F38-43B0-9A78-270F395F13E8--INT_ASM_PRODUCTION/HG01099/assemblies/freeze_2/HG01099_pat_hprc_r2_v1.0.1.fa.gz",
         "HG01099_mat_hprc_r2_v1.0.1",
         "s3://human-pangenomics/submissions/DC27718F-5F38-43B0-9A78-270F395F13E8--INT_ASM_PRODUCTION/HG01099/assemblies/freeze_2/HG01099_mat_hprc_r2_v1.0.1.fa.gz"
        ],
        [
         "19",
         "HG01255",
         "R941_minimap2_2.28",
         "s3://human-pangenomics/submissions/ca366a13-5bad-487b-8a57-97344e9aa0e4--HPRC_RELEASE_2_SUPPLEMENTARY_ASSEMBLY_QC/HG01255/hprc_r2/assembly_qc/read_alignments/ont/HG01255.R941_minimap2_2.28.corrected.bam",
         "HG01255_pat_hprc_r2_v1.0.1",
         "s3://human-pangenomics/submissions/DC27718F-5F38-43B0-9A78-270F395F13E8--INT_ASM_PRODUCTION/HG01255/assemblies/freeze_2/HG01255_pat_hprc_r2_v1.0.1.fa.gz",
         "HG01255_mat_hprc_r2_v1.0.1",
         "s3://human-pangenomics/submissions/DC27718F-5F38-43B0-9A78-270F395F13E8--INT_ASM_PRODUCTION/HG01255/assemblies/freeze_2/HG01255_mat_hprc_r2_v1.0.1.fa.gz"
        ],
        [
         "20",
         "HG01346",
         "R941_minimap2_2.28",
         "s3://human-pangenomics/submissions/ca366a13-5bad-487b-8a57-97344e9aa0e4--HPRC_RELEASE_2_SUPPLEMENTARY_ASSEMBLY_QC/HG01346/hprc_r2/assembly_qc/read_alignments/ont/HG01346.R941_minimap2_2.28.corrected.bam",
         "HG01346_pat_hprc_r2_v1.0.1",
         "s3://human-pangenomics/submissions/DC27718F-5F38-43B0-9A78-270F395F13E8--INT_ASM_PRODUCTION/HG01346/assemblies/freeze_2/HG01346_pat_hprc_r2_v1.0.1.fa.gz",
         "HG01346_mat_hprc_r2_v1.0.1",
         "s3://human-pangenomics/submissions/DC27718F-5F38-43B0-9A78-270F395F13E8--INT_ASM_PRODUCTION/HG01346/assemblies/freeze_2/HG01346_mat_hprc_r2_v1.0.1.fa.gz"
        ],
        [
         "21",
         "HG01433",
         "R941_minimap2_2.28",
         "s3://human-pangenomics/submissions/ca366a13-5bad-487b-8a57-97344e9aa0e4--HPRC_RELEASE_2_SUPPLEMENTARY_ASSEMBLY_QC/HG01433/hprc_r2/assembly_qc/read_alignments/ont/HG01433.R941_minimap2_2.28.corrected.bam",
         "HG01433_pat_hprc_r2_v1.0.1",
         "s3://human-pangenomics/submissions/DC27718F-5F38-43B0-9A78-270F395F13E8--INT_ASM_PRODUCTION/HG01433/assemblies/freeze_2/HG01433_pat_hprc_r2_v1.0.1.fa.gz",
         "HG01433_mat_hprc_r2_v1.0.1",
         "s3://human-pangenomics/submissions/DC27718F-5F38-43B0-9A78-270F395F13E8--INT_ASM_PRODUCTION/HG01433/assemblies/freeze_2/HG01433_mat_hprc_r2_v1.0.1.fa.gz"
        ],
        [
         "22",
         "HG01496",
         "R941_minimap2_2.28",
         "s3://human-pangenomics/submissions/ca366a13-5bad-487b-8a57-97344e9aa0e4--HPRC_RELEASE_2_SUPPLEMENTARY_ASSEMBLY_QC/HG01496/hprc_r2/assembly_qc/read_alignments/ont/HG01496.R941_minimap2_2.28.corrected.bam",
         "HG01496_pat_hprc_r2_v1.0.1",
         "s3://human-pangenomics/submissions/DC27718F-5F38-43B0-9A78-270F395F13E8--INT_ASM_PRODUCTION/HG01496/assemblies/freeze_2/HG01496_pat_hprc_r2_v1.0.1.fa.gz",
         "HG01496_mat_hprc_r2_v1.0.1",
         "s3://human-pangenomics/submissions/DC27718F-5F38-43B0-9A78-270F395F13E8--INT_ASM_PRODUCTION/HG01496/assemblies/freeze_2/HG01496_mat_hprc_r2_v1.0.1.fa.gz"
        ],
        [
         "23",
         "HG01884",
         "R941_minimap2_2.28",
         "s3://human-pangenomics/submissions/ca366a13-5bad-487b-8a57-97344e9aa0e4--HPRC_RELEASE_2_SUPPLEMENTARY_ASSEMBLY_QC/HG01884/hprc_r2/assembly_qc/read_alignments/ont/HG01884.R941_minimap2_2.28.corrected.bam",
         "HG01884_pat_hprc_r2_v1.0.1",
         "s3://human-pangenomics/submissions/DC27718F-5F38-43B0-9A78-270F395F13E8--INT_ASM_PRODUCTION/HG01884/assemblies/freeze_2/HG01884_pat_hprc_r2_v1.0.1.fa.gz",
         "HG01884_mat_hprc_r2_v1.0.1",
         "s3://human-pangenomics/submissions/DC27718F-5F38-43B0-9A78-270F395F13E8--INT_ASM_PRODUCTION/HG01884/assemblies/freeze_2/HG01884_mat_hprc_r2_v1.0.1.fa.gz"
        ],
        [
         "24",
         "HG01981",
         "R941_minimap2_2.28",
         "s3://human-pangenomics/submissions/ca366a13-5bad-487b-8a57-97344e9aa0e4--HPRC_RELEASE_2_SUPPLEMENTARY_ASSEMBLY_QC/HG01981/hprc_r2/assembly_qc/read_alignments/ont/HG01981.R941_minimap2_2.28.corrected.bam",
         "HG01981_pat_hprc_r2_v1.0.1",
         "s3://human-pangenomics/submissions/DC27718F-5F38-43B0-9A78-270F395F13E8--INT_ASM_PRODUCTION/HG01981/assemblies/freeze_2/HG01981_pat_hprc_r2_v1.0.1.fa.gz",
         "HG01981_mat_hprc_r2_v1.0.1",
         "s3://human-pangenomics/submissions/DC27718F-5F38-43B0-9A78-270F395F13E8--INT_ASM_PRODUCTION/HG01981/assemblies/freeze_2/HG01981_mat_hprc_r2_v1.0.1.fa.gz"
        ],
        [
         "25",
         "HG01993",
         "R941_minimap2_2.28",
         "s3://human-pangenomics/submissions/ca366a13-5bad-487b-8a57-97344e9aa0e4--HPRC_RELEASE_2_SUPPLEMENTARY_ASSEMBLY_QC/HG01993/hprc_r2/assembly_qc/read_alignments/ont/HG01993.R941_minimap2_2.28.corrected.bam",
         "HG01993_pat_hprc_r2_v1.0.1",
         "s3://human-pangenomics/submissions/DC27718F-5F38-43B0-9A78-270F395F13E8--INT_ASM_PRODUCTION/HG01993/assemblies/freeze_2/HG01993_pat_hprc_r2_v1.0.1.fa.gz",
         "HG01993_mat_hprc_r2_v1.0.1",
         "s3://human-pangenomics/submissions/DC27718F-5F38-43B0-9A78-270F395F13E8--INT_ASM_PRODUCTION/HG01993/assemblies/freeze_2/HG01993_mat_hprc_r2_v1.0.1.fa.gz"
        ],
        [
         "26",
         "HG02004",
         "R941_minimap2_2.28",
         "s3://human-pangenomics/submissions/ca366a13-5bad-487b-8a57-97344e9aa0e4--HPRC_RELEASE_2_SUPPLEMENTARY_ASSEMBLY_QC/HG02004/hprc_r2/assembly_qc/read_alignments/ont/HG02004.R941_minimap2_2.28.corrected.bam",
         "HG02004_pat_hprc_r2_v1.0.1",
         "s3://human-pangenomics/submissions/DC27718F-5F38-43B0-9A78-270F395F13E8--INT_ASM_PRODUCTION/HG02004/assemblies/freeze_2/HG02004_pat_hprc_r2_v1.0.1.fa.gz",
         "HG02004_mat_hprc_r2_v1.0.1",
         "s3://human-pangenomics/submissions/DC27718F-5F38-43B0-9A78-270F395F13E8--INT_ASM_PRODUCTION/HG02004/assemblies/freeze_2/HG02004_mat_hprc_r2_v1.0.1.fa.gz"
        ],
        [
         "27",
         "HG02027",
         "R941_minimap2_2.28",
         "s3://human-pangenomics/submissions/ca366a13-5bad-487b-8a57-97344e9aa0e4--HPRC_RELEASE_2_SUPPLEMENTARY_ASSEMBLY_QC/HG02027/hprc_r2/assembly_qc/read_alignments/ont/HG02027.R941_minimap2_2.28.corrected.bam",
         "HG02027_pat_hprc_r2_v1.0.1",
         "s3://human-pangenomics/submissions/DC27718F-5F38-43B0-9A78-270F395F13E8--INT_ASM_PRODUCTION/HG02027/assemblies/freeze_2/HG02027_pat_hprc_r2_v1.0.1.fa.gz",
         "HG02027_mat_hprc_r2_v1.0.1",
         "s3://human-pangenomics/submissions/DC27718F-5F38-43B0-9A78-270F395F13E8--INT_ASM_PRODUCTION/HG02027/assemblies/freeze_2/HG02027_mat_hprc_r2_v1.0.1.fa.gz"
        ],
        [
         "28",
         "HG02083",
         "R941_minimap2_2.28",
         "s3://human-pangenomics/submissions/ca366a13-5bad-487b-8a57-97344e9aa0e4--HPRC_RELEASE_2_SUPPLEMENTARY_ASSEMBLY_QC/HG02083/hprc_r2/assembly_qc/read_alignments/ont/HG02083.R941_minimap2_2.28.corrected.bam",
         "HG02083_pat_hprc_r2_v1.0.1",
         "s3://human-pangenomics/submissions/DC27718F-5F38-43B0-9A78-270F395F13E8--INT_ASM_PRODUCTION/HG02083/assemblies/freeze_2/HG02083_pat_hprc_r2_v1.0.1.fa.gz",
         "HG02083_mat_hprc_r2_v1.0.1",
         "s3://human-pangenomics/submissions/DC27718F-5F38-43B0-9A78-270F395F13E8--INT_ASM_PRODUCTION/HG02083/assemblies/freeze_2/HG02083_mat_hprc_r2_v1.0.1.fa.gz"
        ],
        [
         "29",
         "HG02132",
         "R941_minimap2_2.28",
         "s3://human-pangenomics/submissions/ca366a13-5bad-487b-8a57-97344e9aa0e4--HPRC_RELEASE_2_SUPPLEMENTARY_ASSEMBLY_QC/HG02132/hprc_r2/assembly_qc/read_alignments/ont/HG02132.R941_minimap2_2.28.corrected.bam",
         "HG02132_pat_hprc_r2_v1.0.1",
         "s3://human-pangenomics/submissions/DC27718F-5F38-43B0-9A78-270F395F13E8--INT_ASM_PRODUCTION/HG02132/assemblies/freeze_2/HG02132_pat_hprc_r2_v1.0.1.fa.gz",
         "HG02132_mat_hprc_r2_v1.0.1",
         "s3://human-pangenomics/submissions/DC27718F-5F38-43B0-9A78-270F395F13E8--INT_ASM_PRODUCTION/HG02132/assemblies/freeze_2/HG02132_mat_hprc_r2_v1.0.1.fa.gz"
        ],
        [
         "30",
         "HG02280",
         "R941_minimap2_2.28",
         "s3://human-pangenomics/submissions/ca366a13-5bad-487b-8a57-97344e9aa0e4--HPRC_RELEASE_2_SUPPLEMENTARY_ASSEMBLY_QC/HG02280/hprc_r2/assembly_qc/read_alignments/ont/HG02280.R941_minimap2_2.28.corrected.bam",
         "HG02280_pat_hprc_r2_v1.0.1",
         "s3://human-pangenomics/submissions/DC27718F-5F38-43B0-9A78-270F395F13E8--INT_ASM_PRODUCTION/HG02280/assemblies/freeze_2/HG02280_pat_hprc_r2_v1.0.1.fa.gz",
         "HG02280_mat_hprc_r2_v1.0.1",
         "s3://human-pangenomics/submissions/DC27718F-5F38-43B0-9A78-270F395F13E8--INT_ASM_PRODUCTION/HG02280/assemblies/freeze_2/HG02280_mat_hprc_r2_v1.0.1.fa.gz"
        ],
        [
         "31",
         "HG02293",
         "R941_minimap2_2.28",
         "s3://human-pangenomics/submissions/ca366a13-5bad-487b-8a57-97344e9aa0e4--HPRC_RELEASE_2_SUPPLEMENTARY_ASSEMBLY_QC/HG02293/hprc_r2/assembly_qc/read_alignments/ont/HG02293.R941_minimap2_2.28.corrected.bam",
         "HG02293_pat_hprc_r2_v1.0.1",
         "s3://human-pangenomics/submissions/DC27718F-5F38-43B0-9A78-270F395F13E8--INT_ASM_PRODUCTION/HG02293/assemblies/freeze_2/HG02293_pat_hprc_r2_v1.0.1.fa.gz",
         "HG02293_mat_hprc_r2_v1.0.1",
         "s3://human-pangenomics/submissions/DC27718F-5F38-43B0-9A78-270F395F13E8--INT_ASM_PRODUCTION/HG02293/assemblies/freeze_2/HG02293_mat_hprc_r2_v1.0.1.fa.gz"
        ],
        [
         "32",
         "HG02300",
         "R941_minimap2_2.28",
         "s3://human-pangenomics/submissions/ca366a13-5bad-487b-8a57-97344e9aa0e4--HPRC_RELEASE_2_SUPPLEMENTARY_ASSEMBLY_QC/HG02300/hprc_r2/assembly_qc/read_alignments/ont/HG02300.R941_minimap2_2.28.corrected.bam",
         "HG02300_pat_hprc_r2_v1.0.1",
         "s3://human-pangenomics/submissions/DC27718F-5F38-43B0-9A78-270F395F13E8--INT_ASM_PRODUCTION/HG02300/assemblies/freeze_2/HG02300_pat_hprc_r2_v1.0.1.fa.gz",
         "HG02300_mat_hprc_r2_v1.0.1",
         "s3://human-pangenomics/submissions/DC27718F-5F38-43B0-9A78-270F395F13E8--INT_ASM_PRODUCTION/HG02300/assemblies/freeze_2/HG02300_mat_hprc_r2_v1.0.1.fa.gz"
        ],
        [
         "33",
         "HG02451",
         "R941_minimap2_2.28",
         "s3://human-pangenomics/submissions/ca366a13-5bad-487b-8a57-97344e9aa0e4--HPRC_RELEASE_2_SUPPLEMENTARY_ASSEMBLY_QC/HG02451/hprc_r2/assembly_qc/read_alignments/ont/HG02451.R941_minimap2_2.28.corrected.bam",
         "HG02451_pat_hprc_r2_v1.0.1",
         "s3://human-pangenomics/submissions/DC27718F-5F38-43B0-9A78-270F395F13E8--INT_ASM_PRODUCTION/HG02451/assemblies/freeze_2/HG02451_pat_hprc_r2_v1.0.1.fa.gz",
         "HG02451_mat_hprc_r2_v1.0.1",
         "s3://human-pangenomics/submissions/DC27718F-5F38-43B0-9A78-270F395F13E8--INT_ASM_PRODUCTION/HG02451/assemblies/freeze_2/HG02451_mat_hprc_r2_v1.0.1.fa.gz"
        ],
        [
         "34",
         "HG02523",
         "R941_minimap2_2.28",
         "s3://human-pangenomics/submissions/ca366a13-5bad-487b-8a57-97344e9aa0e4--HPRC_RELEASE_2_SUPPLEMENTARY_ASSEMBLY_QC/HG02523/hprc_r2/assembly_qc/read_alignments/ont/HG02523.R941_minimap2_2.28.corrected.bam",
         "HG02523_pat_hprc_r2_v1.0.1",
         "s3://human-pangenomics/submissions/DC27718F-5F38-43B0-9A78-270F395F13E8--INT_ASM_PRODUCTION/HG02523/assemblies/freeze_2/HG02523_pat_hprc_r2_v1.0.1.fa.gz",
         "HG02523_mat_hprc_r2_v1.0.1",
         "s3://human-pangenomics/submissions/DC27718F-5F38-43B0-9A78-270F395F13E8--INT_ASM_PRODUCTION/HG02523/assemblies/freeze_2/HG02523_mat_hprc_r2_v1.0.1.fa.gz"
        ],
        [
         "35",
         "HG02615",
         "R941_minimap2_2.28",
         "s3://human-pangenomics/submissions/ca366a13-5bad-487b-8a57-97344e9aa0e4--HPRC_RELEASE_2_SUPPLEMENTARY_ASSEMBLY_QC/HG02615/hprc_r2/assembly_qc/read_alignments/ont/HG02615.R941_minimap2_2.28.corrected.bam",
         "HG02615_pat_hprc_r2_v1.0.1",
         "s3://human-pangenomics/submissions/DC27718F-5F38-43B0-9A78-270F395F13E8--INT_ASM_PRODUCTION/HG02615/assemblies/freeze_2/HG02615_pat_hprc_r2_v1.0.1.fa.gz",
         "HG02615_mat_hprc_r2_v1.0.1",
         "s3://human-pangenomics/submissions/DC27718F-5F38-43B0-9A78-270F395F13E8--INT_ASM_PRODUCTION/HG02615/assemblies/freeze_2/HG02615_mat_hprc_r2_v1.0.1.fa.gz"
        ],
        [
         "36",
         "HG02647",
         "R941_minimap2_2.28",
         "s3://human-pangenomics/submissions/ca366a13-5bad-487b-8a57-97344e9aa0e4--HPRC_RELEASE_2_SUPPLEMENTARY_ASSEMBLY_QC/HG02647/hprc_r2/assembly_qc/read_alignments/ont/HG02647.R941_minimap2_2.28.corrected.bam",
         "HG02647_pat_hprc_r2_v1.0.1",
         "s3://human-pangenomics/submissions/DC27718F-5F38-43B0-9A78-270F395F13E8--INT_ASM_PRODUCTION/HG02647/assemblies/freeze_2/HG02647_pat_hprc_r2_v1.0.1.fa.gz",
         "HG02647_mat_hprc_r2_v1.0.1",
         "s3://human-pangenomics/submissions/DC27718F-5F38-43B0-9A78-270F395F13E8--INT_ASM_PRODUCTION/HG02647/assemblies/freeze_2/HG02647_mat_hprc_r2_v1.0.1.fa.gz"
        ],
        [
         "37",
         "HG02698",
         "R941_minimap2_2.28",
         "s3://human-pangenomics/submissions/ca366a13-5bad-487b-8a57-97344e9aa0e4--HPRC_RELEASE_2_SUPPLEMENTARY_ASSEMBLY_QC/HG02698/hprc_r2/assembly_qc/read_alignments/ont/HG02698.R941_minimap2_2.28.corrected.bam",
         "HG02698_pat_hprc_r2_v1.0.1",
         "s3://human-pangenomics/submissions/DC27718F-5F38-43B0-9A78-270F395F13E8--INT_ASM_PRODUCTION/HG02698/assemblies/freeze_2/HG02698_pat_hprc_r2_v1.0.1.fa.gz",
         "HG02698_mat_hprc_r2_v1.0.1",
         "s3://human-pangenomics/submissions/DC27718F-5F38-43B0-9A78-270F395F13E8--INT_ASM_PRODUCTION/HG02698/assemblies/freeze_2/HG02698_mat_hprc_r2_v1.0.1.fa.gz"
        ],
        [
         "38",
         "HG03654",
         "R941_minimap2_2.28",
         "s3://human-pangenomics/submissions/ca366a13-5bad-487b-8a57-97344e9aa0e4--HPRC_RELEASE_2_SUPPLEMENTARY_ASSEMBLY_QC/HG03654/hprc_r2/assembly_qc/read_alignments/ont/HG03654.R941_minimap2_2.28.corrected.bam",
         "HG03654_pat_hprc_r2_v1.0.1",
         "s3://human-pangenomics/submissions/DC27718F-5F38-43B0-9A78-270F395F13E8--INT_ASM_PRODUCTION/HG03654/assemblies/freeze_2/HG03654_pat_hprc_r2_v1.0.1.fa.gz",
         "HG03654_mat_hprc_r2_v1.0.1",
         "s3://human-pangenomics/submissions/DC27718F-5F38-43B0-9A78-270F395F13E8--INT_ASM_PRODUCTION/HG03654/assemblies/freeze_2/HG03654_mat_hprc_r2_v1.0.1.fa.gz"
        ],
        [
         "39",
         "HG03669",
         "R941_minimap2_2.28",
         "s3://human-pangenomics/submissions/ca366a13-5bad-487b-8a57-97344e9aa0e4--HPRC_RELEASE_2_SUPPLEMENTARY_ASSEMBLY_QC/HG03669/hprc_r2/assembly_qc/read_alignments/ont/HG03669.R941_minimap2_2.28.corrected.bam",
         "HG03669_pat_hprc_r2_v1.0.1",
         "s3://human-pangenomics/submissions/DC27718F-5F38-43B0-9A78-270F395F13E8--INT_ASM_PRODUCTION/HG03669/assemblies/freeze_2/HG03669_pat_hprc_r2_v1.0.1.fa.gz",
         "HG03669_mat_hprc_r2_v1.0.1",
         "s3://human-pangenomics/submissions/DC27718F-5F38-43B0-9A78-270F395F13E8--INT_ASM_PRODUCTION/HG03669/assemblies/freeze_2/HG03669_mat_hprc_r2_v1.0.1.fa.gz"
        ],
        [
         "40",
         "HG03688",
         "R941_minimap2_2.28",
         "s3://human-pangenomics/submissions/ca366a13-5bad-487b-8a57-97344e9aa0e4--HPRC_RELEASE_2_SUPPLEMENTARY_ASSEMBLY_QC/HG03688/hprc_r2/assembly_qc/read_alignments/ont/HG03688.R941_minimap2_2.28.corrected.bam",
         "HG03688_pat_hprc_r2_v1.0.1",
         "s3://human-pangenomics/submissions/DC27718F-5F38-43B0-9A78-270F395F13E8--INT_ASM_PRODUCTION/HG03688/assemblies/freeze_2/HG03688_pat_hprc_r2_v1.0.1.fa.gz",
         "HG03688_mat_hprc_r2_v1.0.1",
         "s3://human-pangenomics/submissions/DC27718F-5F38-43B0-9A78-270F395F13E8--INT_ASM_PRODUCTION/HG03688/assemblies/freeze_2/HG03688_mat_hprc_r2_v1.0.1.fa.gz"
        ],
        [
         "41",
         "HG03704",
         "R941_minimap2_2.28",
         "s3://human-pangenomics/submissions/ca366a13-5bad-487b-8a57-97344e9aa0e4--HPRC_RELEASE_2_SUPPLEMENTARY_ASSEMBLY_QC/HG03704/hprc_r2/assembly_qc/read_alignments/ont/HG03704.R941_minimap2_2.28.corrected.bam",
         "HG03704_pat_hprc_r2_v1.0.1",
         "s3://human-pangenomics/submissions/DC27718F-5F38-43B0-9A78-270F395F13E8--INT_ASM_PRODUCTION/HG03704/assemblies/freeze_2/HG03704_pat_hprc_r2_v1.0.1.fa.gz",
         "HG03704_mat_hprc_r2_v1.0.1",
         "s3://human-pangenomics/submissions/DC27718F-5F38-43B0-9A78-270F395F13E8--INT_ASM_PRODUCTION/HG03704/assemblies/freeze_2/HG03704_mat_hprc_r2_v1.0.1.fa.gz"
        ],
        [
         "42",
         "HG03710",
         "R941_minimap2_2.28",
         "s3://human-pangenomics/submissions/ca366a13-5bad-487b-8a57-97344e9aa0e4--HPRC_RELEASE_2_SUPPLEMENTARY_ASSEMBLY_QC/HG03710/hprc_r2/assembly_qc/read_alignments/ont/HG03710.R941_minimap2_2.28.corrected.bam",
         "HG03710_pat_hprc_r2_v1.0.1",
         "s3://human-pangenomics/submissions/DC27718F-5F38-43B0-9A78-270F395F13E8--INT_ASM_PRODUCTION/HG03710/assemblies/freeze_2/HG03710_pat_hprc_r2_v1.0.1.fa.gz",
         "HG03710_mat_hprc_r2_v1.0.1",
         "s3://human-pangenomics/submissions/DC27718F-5F38-43B0-9A78-270F395F13E8--INT_ASM_PRODUCTION/HG03710/assemblies/freeze_2/HG03710_mat_hprc_r2_v1.0.1.fa.gz"
        ],
        [
         "43",
         "HG03831",
         "R941_minimap2_2.28",
         "s3://human-pangenomics/submissions/ca366a13-5bad-487b-8a57-97344e9aa0e4--HPRC_RELEASE_2_SUPPLEMENTARY_ASSEMBLY_QC/HG03831/hprc_r2/assembly_qc/read_alignments/ont/HG03831.R941_minimap2_2.28.corrected.bam",
         "HG03831_pat_hprc_r2_v1.0.1",
         "s3://human-pangenomics/submissions/DC27718F-5F38-43B0-9A78-270F395F13E8--INT_ASM_PRODUCTION/HG03831/assemblies/freeze_2/HG03831_pat_hprc_r2_v1.0.1.fa.gz",
         "HG03831_mat_hprc_r2_v1.0.1",
         "s3://human-pangenomics/submissions/DC27718F-5F38-43B0-9A78-270F395F13E8--INT_ASM_PRODUCTION/HG03831/assemblies/freeze_2/HG03831_mat_hprc_r2_v1.0.1.fa.gz"
        ],
        [
         "44",
         "HG03927",
         "R941_minimap2_2.28",
         "s3://human-pangenomics/submissions/ca366a13-5bad-487b-8a57-97344e9aa0e4--HPRC_RELEASE_2_SUPPLEMENTARY_ASSEMBLY_QC/HG03927/hprc_r2/assembly_qc/read_alignments/ont/HG03927.R941_minimap2_2.28.corrected.bam",
         "HG03927_pat_hprc_r2_v1.0.1",
         "s3://human-pangenomics/submissions/DC27718F-5F38-43B0-9A78-270F395F13E8--INT_ASM_PRODUCTION/HG03927/assemblies/freeze_2/HG03927_pat_hprc_r2_v1.0.1.fa.gz",
         "HG03927_mat_hprc_r2_v1.0.1",
         "s3://human-pangenomics/submissions/DC27718F-5F38-43B0-9A78-270F395F13E8--INT_ASM_PRODUCTION/HG03927/assemblies/freeze_2/HG03927_mat_hprc_r2_v1.0.1.fa.gz"
        ],
        [
         "45",
         "HG04115",
         "R941_minimap2_2.28",
         "s3://human-pangenomics/submissions/ca366a13-5bad-487b-8a57-97344e9aa0e4--HPRC_RELEASE_2_SUPPLEMENTARY_ASSEMBLY_QC/HG04115/hprc_r2/assembly_qc/read_alignments/ont/HG04115.R941_minimap2_2.28.corrected.bam",
         "HG04115_pat_hprc_r2_v1.0.1",
         "s3://human-pangenomics/submissions/DC27718F-5F38-43B0-9A78-270F395F13E8--INT_ASM_PRODUCTION/HG04115/assemblies/freeze_2/HG04115_pat_hprc_r2_v1.0.1.fa.gz",
         "HG04115_mat_hprc_r2_v1.0.1",
         "s3://human-pangenomics/submissions/DC27718F-5F38-43B0-9A78-270F395F13E8--INT_ASM_PRODUCTION/HG04115/assemblies/freeze_2/HG04115_mat_hprc_r2_v1.0.1.fa.gz"
        ],
        [
         "46",
         "HG04184",
         "R941_minimap2_2.28",
         "s3://human-pangenomics/submissions/ca366a13-5bad-487b-8a57-97344e9aa0e4--HPRC_RELEASE_2_SUPPLEMENTARY_ASSEMBLY_QC/HG04184/hprc_r2/assembly_qc/read_alignments/ont/HG04184.R941_minimap2_2.28.corrected.bam",
         "HG04184_pat_hprc_r2_v1.0.1",
         "s3://human-pangenomics/submissions/DC27718F-5F38-43B0-9A78-270F395F13E8--INT_ASM_PRODUCTION/HG04184/assemblies/freeze_2/HG04184_pat_hprc_r2_v1.0.1.fa.gz",
         "HG04184_mat_hprc_r2_v1.0.1",
         "s3://human-pangenomics/submissions/DC27718F-5F38-43B0-9A78-270F395F13E8--INT_ASM_PRODUCTION/HG04184/assemblies/freeze_2/HG04184_mat_hprc_r2_v1.0.1.fa.gz"
        ],
        [
         "47",
         "HG04199",
         "R941_minimap2_2.28",
         "s3://human-pangenomics/submissions/ca366a13-5bad-487b-8a57-97344e9aa0e4--HPRC_RELEASE_2_SUPPLEMENTARY_ASSEMBLY_QC/HG04199/hprc_r2/assembly_qc/read_alignments/ont/HG04199.R941_minimap2_2.28.corrected.bam",
         "HG04199_pat_hprc_r2_v1.0.1",
         "s3://human-pangenomics/submissions/DC27718F-5F38-43B0-9A78-270F395F13E8--INT_ASM_PRODUCTION/HG04199/assemblies/freeze_2/HG04199_pat_hprc_r2_v1.0.1.fa.gz",
         "HG04199_mat_hprc_r2_v1.0.1",
         "s3://human-pangenomics/submissions/DC27718F-5F38-43B0-9A78-270F395F13E8--INT_ASM_PRODUCTION/HG04199/assemblies/freeze_2/HG04199_mat_hprc_r2_v1.0.1.fa.gz"
        ],
        [
         "48",
         "HG02738",
         "R941_minimap2_2.28",
         "s3://human-pangenomics/submissions/ca366a13-5bad-487b-8a57-97344e9aa0e4--HPRC_RELEASE_2_SUPPLEMENTARY_ASSEMBLY_QC/HG02738/hprc_r2/assembly_qc/read_alignments/ont/HG02738.R941_minimap2_2.28.corrected.bam",
         "HG02738_pat_hprc_r2_v1.0.1",
         "s3://human-pangenomics/submissions/DC27718F-5F38-43B0-9A78-270F395F13E8--INT_ASM_PRODUCTION/HG02738/assemblies/freeze_2/HG02738_pat_hprc_r2_v1.0.1.fa.gz",
         "HG02738_mat_hprc_r2_v1.0.1",
         "s3://human-pangenomics/submissions/DC27718F-5F38-43B0-9A78-270F395F13E8--INT_ASM_PRODUCTION/HG02738/assemblies/freeze_2/HG02738_mat_hprc_r2_v1.0.1.fa.gz"
        ],
        [
         "49",
         "HG00621",
         "R941_minimap2_2.28",
         "s3://human-pangenomics/submissions/ca366a13-5bad-487b-8a57-97344e9aa0e4--HPRC_RELEASE_2_SUPPLEMENTARY_ASSEMBLY_QC/HG00621/hprc_r2/assembly_qc/read_alignments/ont/HG00621.R941_minimap2_2.28.corrected.bam",
         "HG00621_pat_hprc_r2_v1.0.1",
         "s3://human-pangenomics/submissions/DC27718F-5F38-43B0-9A78-270F395F13E8--INT_ASM_PRODUCTION/HG00621/assemblies/freeze_2/HG00621_pat_hprc_r2_v1.0.1.fa.gz",
         "HG00621_mat_hprc_r2_v1.0.1",
         "s3://human-pangenomics/submissions/DC27718F-5F38-43B0-9A78-270F395F13E8--INT_ASM_PRODUCTION/HG00621/assemblies/freeze_2/HG00621_mat_hprc_r2_v1.0.1.fa.gz"
        ]
       ],
       "shape": {
        "columns": 7,
        "rows": 231
       }
      },
      "text/html": [
       "<div>\n",
       "<style scoped>\n",
       "    .dataframe tbody tr th:only-of-type {\n",
       "        vertical-align: middle;\n",
       "    }\n",
       "\n",
       "    .dataframe tbody tr th {\n",
       "        vertical-align: top;\n",
       "    }\n",
       "\n",
       "    .dataframe thead th {\n",
       "        text-align: right;\n",
       "    }\n",
       "</style>\n",
       "<table border=\"1\" class=\"dataframe\">\n",
       "  <thead>\n",
       "    <tr style=\"text-align: right;\">\n",
       "      <th></th>\n",
       "      <th>sample_id</th>\n",
       "      <th>mapping_info</th>\n",
       "      <th>alignment_link</th>\n",
       "      <th>hap1_assembly_name</th>\n",
       "      <th>hap1_assembly</th>\n",
       "      <th>hap2_assembly_name</th>\n",
       "      <th>hap2_assembly</th>\n",
       "    </tr>\n",
       "  </thead>\n",
       "  <tbody>\n",
       "    <tr>\n",
       "      <th>0</th>\n",
       "      <td>HG00408</td>\n",
       "      <td>R941_minimap2_2.28</td>\n",
       "      <td>s3://human-pangenomics/submissions/ca366a13-5b...</td>\n",
       "      <td>HG00408_pat_hprc_r2_v1.0.1</td>\n",
       "      <td>s3://human-pangenomics/submissions/DC27718F-5F...</td>\n",
       "      <td>HG00408_mat_hprc_r2_v1.0.1</td>\n",
       "      <td>s3://human-pangenomics/submissions/DC27718F-5F...</td>\n",
       "    </tr>\n",
       "    <tr>\n",
       "      <th>1</th>\n",
       "      <td>HG00597</td>\n",
       "      <td>R941_minimap2_2.28</td>\n",
       "      <td>s3://human-pangenomics/submissions/ca366a13-5b...</td>\n",
       "      <td>HG00597_pat_hprc_r2_v1.0.1</td>\n",
       "      <td>s3://human-pangenomics/submissions/DC27718F-5F...</td>\n",
       "      <td>HG00597_mat_hprc_r2_v1.0.1</td>\n",
       "      <td>s3://human-pangenomics/submissions/DC27718F-5F...</td>\n",
       "    </tr>\n",
       "    <tr>\n",
       "      <th>2</th>\n",
       "      <td>HG01192</td>\n",
       "      <td>R941_minimap2_2.28</td>\n",
       "      <td>s3://human-pangenomics/submissions/ca366a13-5b...</td>\n",
       "      <td>HG01192_pat_hprc_r2_v1.0.1</td>\n",
       "      <td>s3://human-pangenomics/submissions/DC27718F-5F...</td>\n",
       "      <td>HG01192_mat_hprc_r2_v1.0.1</td>\n",
       "      <td>s3://human-pangenomics/submissions/DC27718F-5F...</td>\n",
       "    </tr>\n",
       "    <tr>\n",
       "      <th>3</th>\n",
       "      <td>HG01261</td>\n",
       "      <td>R941_minimap2_2.28</td>\n",
       "      <td>s3://human-pangenomics/submissions/ca366a13-5b...</td>\n",
       "      <td>HG01261_pat_hprc_r2_v1.0.1</td>\n",
       "      <td>s3://human-pangenomics/submissions/DC27718F-5F...</td>\n",
       "      <td>HG01261_mat_hprc_r2_v1.0.1</td>\n",
       "      <td>s3://human-pangenomics/submissions/DC27718F-5F...</td>\n",
       "    </tr>\n",
       "    <tr>\n",
       "      <th>4</th>\n",
       "      <td>HG02015</td>\n",
       "      <td>R941_minimap2_2.28</td>\n",
       "      <td>s3://human-pangenomics/submissions/ca366a13-5b...</td>\n",
       "      <td>HG02015_pat_hprc_r2_v1.0.1</td>\n",
       "      <td>s3://human-pangenomics/submissions/DC27718F-5F...</td>\n",
       "      <td>HG02015_mat_hprc_r2_v1.0.1</td>\n",
       "      <td>s3://human-pangenomics/submissions/DC27718F-5F...</td>\n",
       "    </tr>\n",
       "    <tr>\n",
       "      <th>...</th>\n",
       "      <td>...</td>\n",
       "      <td>...</td>\n",
       "      <td>...</td>\n",
       "      <td>...</td>\n",
       "      <td>...</td>\n",
       "      <td>...</td>\n",
       "      <td>...</td>\n",
       "    </tr>\n",
       "    <tr>\n",
       "      <th>226</th>\n",
       "      <td>NA20503</td>\n",
       "      <td>R1041_minimap2_2.28</td>\n",
       "      <td>s3://human-pangenomics/submissions/ca366a13-5b...</td>\n",
       "      <td>NA20503_hap1_hprc_r2_v1.0.1</td>\n",
       "      <td>s3://human-pangenomics/submissions/DC27718F-5F...</td>\n",
       "      <td>NA20503_hap2_hprc_r2_v1.0.1</td>\n",
       "      <td>s3://human-pangenomics/submissions/DC27718F-5F...</td>\n",
       "    </tr>\n",
       "    <tr>\n",
       "      <th>227</th>\n",
       "      <td>NA20762</td>\n",
       "      <td>R1041_minimap2_2.28</td>\n",
       "      <td>s3://human-pangenomics/submissions/ca366a13-5b...</td>\n",
       "      <td>NA20762_hap1_hprc_r2_v1.0.1</td>\n",
       "      <td>s3://human-pangenomics/submissions/DC27718F-5F...</td>\n",
       "      <td>NA20762_hap2_hprc_r2_v1.0.1</td>\n",
       "      <td>s3://human-pangenomics/submissions/DC27718F-5F...</td>\n",
       "    </tr>\n",
       "    <tr>\n",
       "      <th>228</th>\n",
       "      <td>NA20806</td>\n",
       "      <td>R1041_minimap2_2.28</td>\n",
       "      <td>s3://human-pangenomics/submissions/ca366a13-5b...</td>\n",
       "      <td>NA20806_hap1_hprc_r2_v1.0.1</td>\n",
       "      <td>s3://human-pangenomics/submissions/DC27718F-5F...</td>\n",
       "      <td>NA20806_hap2_hprc_r2_v1.0.1</td>\n",
       "      <td>s3://human-pangenomics/submissions/DC27718F-5F...</td>\n",
       "    </tr>\n",
       "    <tr>\n",
       "      <th>229</th>\n",
       "      <td>NA20827</td>\n",
       "      <td>R1041_minimap2_2.28</td>\n",
       "      <td>s3://human-pangenomics/submissions/ca366a13-5b...</td>\n",
       "      <td>NA20827_hap1_hprc_r2_v1.0.1</td>\n",
       "      <td>s3://human-pangenomics/submissions/DC27718F-5F...</td>\n",
       "      <td>NA20827_hap2_hprc_r2_v1.0.1</td>\n",
       "      <td>s3://human-pangenomics/submissions/DC27718F-5F...</td>\n",
       "    </tr>\n",
       "    <tr>\n",
       "      <th>230</th>\n",
       "      <td>HG06807</td>\n",
       "      <td>R1041_minimap2_2.28</td>\n",
       "      <td>s3://human-pangenomics/submissions/ca366a13-5b...</td>\n",
       "      <td>HG06807_pat_v1</td>\n",
       "      <td>s3://human-pangenomics/working/HPRC_PLUS/HG068...</td>\n",
       "      <td>HG06807_mat_v1</td>\n",
       "      <td>s3://human-pangenomics/working/HPRC_PLUS/HG068...</td>\n",
       "    </tr>\n",
       "  </tbody>\n",
       "</table>\n",
       "<p>231 rows × 7 columns</p>\n",
       "</div>"
      ],
      "text/plain": [
       "    sample_id         mapping_info  \\\n",
       "0     HG00408   R941_minimap2_2.28   \n",
       "1     HG00597   R941_minimap2_2.28   \n",
       "2     HG01192   R941_minimap2_2.28   \n",
       "3     HG01261   R941_minimap2_2.28   \n",
       "4     HG02015   R941_minimap2_2.28   \n",
       "..        ...                  ...   \n",
       "226   NA20503  R1041_minimap2_2.28   \n",
       "227   NA20762  R1041_minimap2_2.28   \n",
       "228   NA20806  R1041_minimap2_2.28   \n",
       "229   NA20827  R1041_minimap2_2.28   \n",
       "230   HG06807  R1041_minimap2_2.28   \n",
       "\n",
       "                                        alignment_link  \\\n",
       "0    s3://human-pangenomics/submissions/ca366a13-5b...   \n",
       "1    s3://human-pangenomics/submissions/ca366a13-5b...   \n",
       "2    s3://human-pangenomics/submissions/ca366a13-5b...   \n",
       "3    s3://human-pangenomics/submissions/ca366a13-5b...   \n",
       "4    s3://human-pangenomics/submissions/ca366a13-5b...   \n",
       "..                                                 ...   \n",
       "226  s3://human-pangenomics/submissions/ca366a13-5b...   \n",
       "227  s3://human-pangenomics/submissions/ca366a13-5b...   \n",
       "228  s3://human-pangenomics/submissions/ca366a13-5b...   \n",
       "229  s3://human-pangenomics/submissions/ca366a13-5b...   \n",
       "230  s3://human-pangenomics/submissions/ca366a13-5b...   \n",
       "\n",
       "              hap1_assembly_name  \\\n",
       "0     HG00408_pat_hprc_r2_v1.0.1   \n",
       "1     HG00597_pat_hprc_r2_v1.0.1   \n",
       "2     HG01192_pat_hprc_r2_v1.0.1   \n",
       "3     HG01261_pat_hprc_r2_v1.0.1   \n",
       "4     HG02015_pat_hprc_r2_v1.0.1   \n",
       "..                           ...   \n",
       "226  NA20503_hap1_hprc_r2_v1.0.1   \n",
       "227  NA20762_hap1_hprc_r2_v1.0.1   \n",
       "228  NA20806_hap1_hprc_r2_v1.0.1   \n",
       "229  NA20827_hap1_hprc_r2_v1.0.1   \n",
       "230               HG06807_pat_v1   \n",
       "\n",
       "                                         hap1_assembly  \\\n",
       "0    s3://human-pangenomics/submissions/DC27718F-5F...   \n",
       "1    s3://human-pangenomics/submissions/DC27718F-5F...   \n",
       "2    s3://human-pangenomics/submissions/DC27718F-5F...   \n",
       "3    s3://human-pangenomics/submissions/DC27718F-5F...   \n",
       "4    s3://human-pangenomics/submissions/DC27718F-5F...   \n",
       "..                                                 ...   \n",
       "226  s3://human-pangenomics/submissions/DC27718F-5F...   \n",
       "227  s3://human-pangenomics/submissions/DC27718F-5F...   \n",
       "228  s3://human-pangenomics/submissions/DC27718F-5F...   \n",
       "229  s3://human-pangenomics/submissions/DC27718F-5F...   \n",
       "230  s3://human-pangenomics/working/HPRC_PLUS/HG068...   \n",
       "\n",
       "              hap2_assembly_name  \\\n",
       "0     HG00408_mat_hprc_r2_v1.0.1   \n",
       "1     HG00597_mat_hprc_r2_v1.0.1   \n",
       "2     HG01192_mat_hprc_r2_v1.0.1   \n",
       "3     HG01261_mat_hprc_r2_v1.0.1   \n",
       "4     HG02015_mat_hprc_r2_v1.0.1   \n",
       "..                           ...   \n",
       "226  NA20503_hap2_hprc_r2_v1.0.1   \n",
       "227  NA20762_hap2_hprc_r2_v1.0.1   \n",
       "228  NA20806_hap2_hprc_r2_v1.0.1   \n",
       "229  NA20827_hap2_hprc_r2_v1.0.1   \n",
       "230               HG06807_mat_v1   \n",
       "\n",
       "                                         hap2_assembly  \n",
       "0    s3://human-pangenomics/submissions/DC27718F-5F...  \n",
       "1    s3://human-pangenomics/submissions/DC27718F-5F...  \n",
       "2    s3://human-pangenomics/submissions/DC27718F-5F...  \n",
       "3    s3://human-pangenomics/submissions/DC27718F-5F...  \n",
       "4    s3://human-pangenomics/submissions/DC27718F-5F...  \n",
       "..                                                 ...  \n",
       "226  s3://human-pangenomics/submissions/DC27718F-5F...  \n",
       "227  s3://human-pangenomics/submissions/DC27718F-5F...  \n",
       "228  s3://human-pangenomics/submissions/DC27718F-5F...  \n",
       "229  s3://human-pangenomics/submissions/DC27718F-5F...  \n",
       "230  s3://human-pangenomics/working/HPRC_PLUS/HG068...  \n",
       "\n",
       "[231 rows x 7 columns]"
      ]
     },
     "execution_count": 46,
     "metadata": {},
     "output_type": "execute_result"
    }
   ],
   "source": [
    "modkit_inputs_table"
   ]
  },
  {
   "cell_type": "code",
   "execution_count": 47,
   "metadata": {},
   "outputs": [],
   "source": [
    "modkit_inputs_table.to_csv('hprc_ont_modkit_inputs.csv', index=False)"
   ]
  },
  {
   "cell_type": "markdown",
   "metadata": {},
   "source": [
    "### Launching the WDL"
   ]
  },
  {
   "cell_type": "markdown",
   "metadata": {},
   "source": [
    "Build input jsons"
   ]
  },
  {
   "cell_type": "code",
   "execution_count": 48,
   "metadata": {},
   "outputs": [
    {
     "name": "stderr",
     "output_type": "stream",
     "text": [
      "/private/groups/migalab/jmmenend/toil_runs/scripts/launch_from_table.py:43: FutureWarning: Series.__getitem__ treating keys as positions is deprecated. In a future version, integer keys will always be treated as labels (consistent with DataFrame behavior). To access a value by position, use `ser.iloc[pos]`\n",
      "  sample_id = data_row[0]\n"
     ]
    },
    {
     "name": "stdout",
     "output_type": "stream",
     "text": [
      "Creating json for HG00408\n",
      "Creating json for HG00597\n",
      "Creating json for HG01192\n",
      "Creating json for HG01261\n",
      "Creating json for HG02015\n",
      "Creating json for HG02056\n",
      "Creating json for HG02129\n",
      "Creating json for HG02258\n",
      "Creating json for HG03834\n",
      "Creating json for HG01975\n",
      "Creating json for HG02602\n",
      "Creating json for HG04187\n",
      "Creating json for NA18879\n",
      "Creating json for NA20752\n",
      "Creating json for HG02145\n",
      "Creating json for HG00609\n",
      "Creating json for HG00642\n",
      "Creating json for HG00738\n",
      "Creating json for HG01099\n",
      "Creating json for HG01255\n",
      "Creating json for HG01346\n",
      "Creating json for HG01433\n",
      "Creating json for HG01496\n",
      "Creating json for HG01884\n",
      "Creating json for HG01981\n",
      "Creating json for HG01993\n",
      "Creating json for HG02004\n",
      "Creating json for HG02027\n",
      "Creating json for HG02083\n",
      "Creating json for HG02132\n",
      "Creating json for HG02280\n",
      "Creating json for HG02293\n",
      "Creating json for HG02300\n",
      "Creating json for HG02451\n",
      "Creating json for HG02523\n",
      "Creating json for HG02615\n",
      "Creating json for HG02647\n",
      "Creating json for HG02698\n",
      "Creating json for HG03654\n",
      "Creating json for HG03669\n",
      "Creating json for HG03688\n",
      "Creating json for HG03704\n",
      "Creating json for HG03710\n",
      "Creating json for HG03831\n",
      "Creating json for HG03927\n",
      "Creating json for HG04115\n",
      "Creating json for HG04184\n",
      "Creating json for HG04199\n",
      "Creating json for HG02738\n",
      "Creating json for HG00621\n",
      "Creating json for HG00741\n",
      "Creating json for HG01106\n",
      "Creating json for HG01175\n",
      "Creating json for HG01258\n",
      "Creating json for HG01891\n",
      "Creating json for HG01952\n",
      "Creating json for HG02148\n",
      "Creating json for HG02486\n",
      "Creating json for HG02559\n",
      "Creating json for HG02572\n",
      "Creating json for HG02622\n",
      "Creating json for HG02886\n",
      "Creating json for HG03453\n",
      "Creating json for HG03540\n",
      "Creating json for HG00099\n",
      "Creating json for HG00140\n",
      "Creating json for HG00280\n",
      "Creating json for HG00323\n",
      "Creating json for HG02040\n",
      "Creating json for HG02165\n",
      "Creating json for HG02273\n",
      "Creating json for HG02922\n",
      "Creating json for HG02965\n",
      "Creating json for HG02976\n",
      "Creating json for HG03130\n",
      "Creating json for HG03195\n",
      "Creating json for HG03209\n",
      "Creating json for NA18522\n",
      "Creating json for NA18747\n",
      "Creating json for NA18971\n",
      "Creating json for NA18983\n",
      "Creating json for NA19043\n",
      "Creating json for NA20905\n",
      "Creating json for HG01530\n",
      "Creating json for HG01784\n",
      "Creating json for HG02391\n",
      "Creating json for HG03471\n",
      "Creating json for HG03742\n",
      "Creating json for NA18570\n",
      "Creating json for NA19087\n",
      "Creating json for NA19185\n",
      "Creating json for NA19338\n",
      "Creating json for NA19391\n",
      "Creating json for NA19468\n",
      "Creating json for HG00438\n",
      "Creating json for HG00558\n",
      "Creating json for HG00639\n",
      "Creating json for HG00658\n",
      "Creating json for HG00673\n",
      "Creating json for HG01071\n",
      "Creating json for HG01074\n",
      "Creating json for HG01081\n",
      "Creating json for HG01123\n",
      "Creating json for HG01150\n",
      "Creating json for HG01252\n",
      "Creating json for HG01358\n",
      "Creating json for HG01361\n",
      "Creating json for HG01928\n",
      "Creating json for HG01934\n",
      "Creating json for HG01940\n",
      "Creating json for HG01960\n",
      "Creating json for HG01969\n",
      "Creating json for HG01978\n",
      "Creating json for HG02071\n",
      "Creating json for HG02074\n",
      "Creating json for HG02135\n",
      "Creating json for HG02257\n",
      "Creating json for HG02668\n",
      "Creating json for HG02717\n",
      "Creating json for HG02809\n",
      "Creating json for HG03017\n",
      "Creating json for HG03041\n",
      "Creating json for HG03239\n",
      "Creating json for HG03516\n",
      "Creating json for HG03804\n",
      "Creating json for HG03942\n",
      "Creating json for HG04157\n",
      "Creating json for HG04160\n",
      "Creating json for HG04204\n",
      "Creating json for HG04228\n",
      "Creating json for HG00706\n",
      "Creating json for HG03816\n",
      "Creating json for HG00423\n",
      "Creating json for HG00544\n",
      "Creating json for HG01943\n",
      "Creating json for HG02735\n",
      "Creating json for HG03225\n",
      "Creating json for NA19159\n",
      "Creating json for HG00126\n"
     ]
    },
    {
     "name": "stdout",
     "output_type": "stream",
     "text": [
      "Creating json for HG00128\n",
      "Creating json for HG00133\n",
      "Creating json for HG00146\n",
      "Creating json for HG00232\n",
      "Creating json for HG00290\n",
      "Creating json for HG00320\n",
      "Creating json for HG00321\n",
      "Creating json for HG01786\n",
      "Creating json for HG02178\n",
      "Creating json for HG02583\n",
      "Creating json for HG03270\n",
      "Creating json for HG03583\n",
      "Creating json for HG03874\n",
      "Creating json for NA18505\n",
      "Creating json for NA18508\n",
      "Creating json for NA18608\n",
      "Creating json for NA18620\n",
      "Creating json for NA18952\n",
      "Creating json for NA18974\n",
      "Creating json for NA18976\n",
      "Creating json for NA19036\n",
      "Creating json for NA19443\n",
      "Creating json for NA19700\n",
      "Creating json for NA20870\n",
      "Creating json for NA21093\n",
      "Creating json for NA21106\n",
      "Creating json for NA21110\n",
      "Creating json for HG02392\n",
      "Creating json for HG02514\n",
      "Creating json for HG02841\n",
      "Creating json for HG02984\n",
      "Creating json for HG03050\n",
      "Creating json for NA20799\n",
      "Creating json for HG01109\n",
      "Creating json for HG02055\n",
      "Creating json for HG02080\n",
      "Creating json for HG02109\n",
      "Creating json for HG02723\n",
      "Creating json for HG02818\n",
      "Creating json for HG03098\n",
      "Creating json for HG03486\n",
      "Creating json for NA18906\n",
      "Creating json for NA20129\n",
      "Creating json for NA21309\n",
      "Creating json for HG00733\n",
      "Creating json for HG01243\n",
      "Creating json for NA19240\n",
      "Creating json for HG005\n",
      "Creating json for HG00097\n",
      "Creating json for HG00235\n",
      "Creating json for HG00253\n",
      "Creating json for HG00272\n",
      "Creating json for HG00329\n",
      "Creating json for HG00344\n",
      "Creating json for HG00350\n",
      "Creating json for HG01167\n",
      "Creating json for HG03369\n",
      "Creating json for HG03521\n",
      "Creating json for HG03784\n",
      "Creating json for NA18565\n",
      "Creating json for NA19682\n",
      "Creating json for NA19776\n",
      "Creating json for NA19835\n",
      "Creating json for NA19909\n",
      "Creating json for NA20282\n",
      "Creating json for NA20346\n",
      "Creating json for NA20809\n",
      "Creating json for NA20850\n",
      "Creating json for NA21102\n",
      "Creating json for NA21144\n",
      "Creating json for HG00735\n",
      "Creating json for HG02155\n",
      "Creating json for HG02630\n",
      "Creating json for HG03139\n",
      "Creating json for HG03470\n",
      "Creating json for HG03579\n",
      "Creating json for NA20805\n",
      "Creating json for NA18940\n",
      "Creating json for NA18943\n",
      "Creating json for NA18944\n",
      "Creating json for NA18945\n",
      "Creating json for NA18948\n",
      "Creating json for NA18959\n",
      "Creating json for NA18960\n",
      "Creating json for NA18967\n",
      "Creating json for NA18970\n",
      "Creating json for NA18982\n",
      "Creating json for NA20503\n",
      "Creating json for NA20762\n",
      "Creating json for NA20806\n",
      "Creating json for NA20827\n",
      "Creating json for HG06807\n"
     ]
    }
   ],
   "source": [
    "%%bash\n",
    "\n",
    "cd /private/groups/hprc/methylation/ont_modkit &&\n",
    "    mkdir -p input_jsons && cd input_jsons\n",
    "\n",
    "python3 /private/groups/migalab/jmmenend/toil_runs/scripts/launch_from_table.py \\\n",
    "    --data_table /private/groups/hprc/methylation/ont_modkit/hprc_ont_modkit_inputs.csv \\\n",
    "    --field_mapping /private/groups/hprc/methylation/ont_modkit/hprc_modkit_input_mapping.csv \\\n",
    "    --workflow_name hprc_modkit_pileup"
   ]
  },
  {
   "cell_type": "markdown",
   "metadata": {},
   "source": [
    "Launch WDL with toil"
   ]
  },
  {
   "cell_type": "code",
   "execution_count": 50,
   "metadata": {},
   "outputs": [
    {
     "name": "stdout",
     "output_type": "stream",
     "text": [
      "Submitted batch job 7383098\n"
     ]
    }
   ],
   "source": [
    "%%bash\n",
    "\n",
    "cd /private/groups/hprc/methylation/ont_modkit && \\\n",
    "    mkdir -p processing && mkdir -p processing/slurm_logs && \\\n",
    "    cd processing\n",
    "\n",
    "source /private/groups/migalab/jmmenend/toil_runs/toil-venvs/toil_v7.0.0/bin/activate\n",
    "\n",
    "export SINGULARITY_CACHEDIR=\"/data/tmp/$(whoami)/cache/singularity\"\n",
    "export MINIWDL__SINGULARITY__IMAGE_CACHE=\"/data/tmp/$(whoami)/cache/miniwdl\"\n",
    "export TOIL_COORDINATION_DIR=\"/data/tmp\"\n",
    "\n",
    "sbatch \\\n",
    "    --job-name=hprc_modkit_ont \\\n",
    "    --array=[1-231]%10 \\\n",
    "    --cpus-per-task=16 \\\n",
    "    --mem=128G \\\n",
    "    --time=12:00:00 \\\n",
    "    --partition=medium \\\n",
    "    /private/groups/migalab/jmmenend/toil_runs/scripts/toil_sbatch_single_machine.sh \\\n",
    "    --wdl /private/groups/migalab/jmmenend/toil_runs/wdls/hprc_modkit_pileup.wdl \\\n",
    "    --sample_csv /private/groups/hprc/methylation/ont_modkit/hprc_ont_modkit_inputs.csv \\\n",
    "    --input_json_path '/private/groups/hprc/methylation/ont_modkit/input_jsons/${SAMPLE_ID}_hprc_modkit_pileup.json'"
   ]
  },
  {
   "cell_type": "markdown",
   "metadata": {},
   "source": [
    "Aggregate Outputs"
   ]
  },
  {
   "cell_type": "code",
   "execution_count": 1,
   "metadata": {},
   "outputs": [],
   "source": [
    "%%bash\n",
    "\n",
    "cd /private/groups/hprc/methylation/ont_modkit\n",
    "\n",
    "python3 /private/groups/migalab/jmmenend/toil_runs/scripts/update_table_with_outputs.py \\\n",
    "    --input_data_table /private/groups/hprc/methylation/ont_modkit/hprc_ont_modkit_inputs.csv \\\n",
    "    --output_data_table /private/groups/hprc/methylation/ont_modkit/hprc_ont_modkit_outputs.csv \\\n",
    "    --json_location '/private/groups/hprc/methylation/ont_modkit/processing/{sample_id}/{sample_id}_hprc_modkit_pileup_outputs.json'"
   ]
  }
 ],
 "metadata": {
  "kernelspec": {
   "display_name": "python3",
   "language": "python",
   "name": "python3"
  },
  "language_info": {
   "codemirror_mode": {
    "name": "ipython",
    "version": 3
   },
   "file_extension": ".py",
   "mimetype": "text/x-python",
   "name": "python",
   "nbconvert_exporter": "python",
   "pygments_lexer": "ipython3",
   "version": "3.10.14"
  }
 },
 "nbformat": 4,
 "nbformat_minor": 2
}
