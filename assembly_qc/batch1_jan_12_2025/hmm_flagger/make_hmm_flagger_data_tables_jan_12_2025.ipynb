{
 "cells": [
  {
   "cell_type": "code",
   "execution_count": 1,
   "metadata": {},
   "outputs": [],
   "source": [
    "import numpy as np\n",
    "import pandas as pd\n",
    "import sys\n",
    "import os\n",
    "import re"
   ]
  },
  {
   "cell_type": "markdown",
   "metadata": {},
   "source": [
    "### This notebook:\n",
    "* Opens `censat_table_diploid_batch1.csv` created by `batch1/hmm_flagger/make_hmm_flagger_data_tables.ipynb`\n",
    "* Takes read paths from tables \n",
    "    * `batch1/hmm_flagger/read_tables/ont_reads_table.csv`\n",
    "    * `batch1_jan_12_2025/hmm_flagger/read_tables/hifi_full_reads_table.jan_12_2025.csv` \n",
    "* Makes separate data tables for HiFi and ONT new runs that were missed in the previous runs for batch 1\n",
    "* Some HiFi runs were missed because I used only the DeepConsensus table but now I'm using a table with additional Revio data\n",
    "* Some ONT runs were missed because some samples had 'GM' prefix instead of 'NA' prefix\n",
    "* Saves the final data tables in `hifi/` and `ont/` subdirectories and they will be used for creating input json files"
   ]
  },
  {
   "cell_type": "code",
   "execution_count": 2,
   "metadata": {},
   "outputs": [],
   "source": [
    "BASE_DIR=\"/private/groups/hprc/qc_hmm_flagger/hprc_intermediate_assembly/assembly_qc\""
   ]
  },
  {
   "cell_type": "code",
   "execution_count": 3,
   "metadata": {},
   "outputs": [],
   "source": [
    "censat_table_diploid = pd.read_csv(f'{BASE_DIR}/batch1/hmm_flagger/censat_table_diploid_batch1.csv')"
   ]
  },
  {
   "cell_type": "code",
   "execution_count": 4,
   "metadata": {},
   "outputs": [],
   "source": [
    "# parse hifi reads table (jan 12 2025 version containing both Revio and DeepConsensus)\n",
    "hifi_full_reads_table = pd.read_csv(f'read_tables/hifi_full_reads_table.jan_12_2025.csv')\n",
    "\n",
    "# parse hifi reads table (DeepConsensus only)\n",
    "hifi_dc_reads_table = pd.read_csv(f'{BASE_DIR}/batch1/hmm_flagger/read_tables/hifi_reads_table.csv')"
   ]
  },
  {
   "cell_type": "code",
   "execution_count": 5,
   "metadata": {},
   "outputs": [
    {
     "name": "stdout",
     "output_type": "stream",
     "text": [
      "There are 40 samples with coverage > 40x in the new table but not in the old table\n"
     ]
    }
   ],
   "source": [
    "# here I will take only the samples with less than 40x HiFi_DC coverage\n",
    "# so if in the new table we have higher coverage we will rerun it with greater than 40x coverage\n",
    "all_samples_dc_cov_lt_40   = set(hifi_dc_reads_table[\"sample_id\"][hifi_dc_reads_table[\"total_coverage\"] < 40])\n",
    "all_samples_full_cov_gt_40 = set(hifi_full_reads_table[\"sample_id\"][hifi_full_reads_table[\"total_coverage\"] > 40])\n",
    "\n",
    "samples_to_be_rerun_higher_cov = all_samples_full_cov_gt_40.intersection(all_samples_dc_cov_lt_40)\n",
    "\n",
    "print('There are',\n",
    "      len(samples_to_be_rerun_higher_cov),\n",
    "      'samples with coverage > 40x in the new table but not in the old table')"
   ]
  },
  {
   "cell_type": "code",
   "execution_count": 6,
   "metadata": {},
   "outputs": [
    {
     "name": "stdout",
     "output_type": "stream",
     "text": [
      "There are 107 samples existing in the new table but not in the old table\n"
     ]
    }
   ],
   "source": [
    "# here I will take the new samples that were absent from HiFi_DC table\n",
    "all_samples_dc = set(hifi_dc_reads_table[\"sample_id\"])\n",
    "all_samples_full = set(hifi_full_reads_table[\"sample_id\"])\n",
    "\n",
    "samples_to_be_run = all_samples_full.difference(all_samples_dc)\n",
    "\n",
    "print('There are',\n",
    "      len(samples_to_be_run),\n",
    "      'samples existing in the new table but not in the old table')"
   ]
  },
  {
   "cell_type": "code",
   "execution_count": 7,
   "metadata": {},
   "outputs": [],
   "source": [
    "all_samples_for_new_table = samples_to_be_run.union(samples_to_be_rerun_higher_cov)\n",
    "# make a new table with only samples that need to be run (or rerun with higher coverage)\n",
    "hifi_full_reads_table_new_only = hifi_full_reads_table[hifi_full_reads_table['sample_id'].isin(all_samples_for_new_table)]"
   ]
  },
  {
   "cell_type": "code",
   "execution_count": 8,
   "metadata": {},
   "outputs": [
    {
     "data": {
      "text/plain": [
       "83"
      ]
     },
     "execution_count": 8,
     "metadata": {},
     "output_type": "execute_result"
    }
   ],
   "source": [
    "# merge with censat table\n",
    "hifi_data_table_jan_12_2025 = pd.merge(censat_table_diploid, hifi_full_reads_table_new_only, on='sample_id',  how='inner')\n",
    "len(hifi_data_table_jan_12_2025)"
   ]
  },
  {
   "cell_type": "code",
   "execution_count": 9,
   "metadata": {},
   "outputs": [],
   "source": [
    "hifi_data_table_first_run = pd.read_csv(f'{BASE_DIR}/batch1/hmm_flagger/hifi/hmm_flagger_hifi_data_table.csv')"
   ]
  },
  {
   "cell_type": "code",
   "execution_count": 10,
   "metadata": {},
   "outputs": [
    {
     "name": "stdout",
     "output_type": "stream",
     "text": [
      "There are 0 missing samples without HiFi reads for censat batch 1\n"
     ]
    }
   ],
   "source": [
    "sample_ids_censat_batch1 = set(censat_table_diploid['sample_id'])\n",
    "sample_ids_first_run = set(hifi_data_table_first_run['sample_id'])\n",
    "sample_id_jan_12_2025 = set(hifi_data_table_jan_12_2025['sample_id'])\n",
    "missing_samples = sample_ids_censat_batch1.difference(sample_ids_first_run.union(sample_id_jan_12_2025))\n",
    "print(f\"There are {len(missing_samples)} missing samples without HiFi reads for censat batch 1\")"
   ]
  },
  {
   "cell_type": "code",
   "execution_count": 11,
   "metadata": {},
   "outputs": [],
   "source": [
    "os.makedirs(\"hifi\", exist_ok=True)\n",
    "hifi_data_table_jan_12_2025.to_csv('hifi/hmm_flagger_hifi_data_table.csv', index=False)"
   ]
  },
  {
   "cell_type": "markdown",
   "metadata": {},
   "source": [
    "## Make a table for ONT data with 'GM' prefix replaced with 'NA'"
   ]
  },
  {
   "cell_type": "code",
   "execution_count": 12,
   "metadata": {},
   "outputs": [],
   "source": [
    "ont_reads_table = pd.read_csv(f'{BASE_DIR}/batch1/hmm_flagger/read_tables/ont_reads_table.csv')"
   ]
  },
  {
   "cell_type": "code",
   "execution_count": 13,
   "metadata": {},
   "outputs": [
    {
     "data": {
      "text/html": [
       "<div>\n",
       "<style scoped>\n",
       "    .dataframe tbody tr th:only-of-type {\n",
       "        vertical-align: middle;\n",
       "    }\n",
       "\n",
       "    .dataframe tbody tr th {\n",
       "        vertical-align: top;\n",
       "    }\n",
       "\n",
       "    .dataframe thead th {\n",
       "        text-align: right;\n",
       "    }\n",
       "</style>\n",
       "<table border=\"1\" class=\"dataframe\">\n",
       "  <thead>\n",
       "    <tr style=\"text-align: right;\">\n",
       "      <th></th>\n",
       "      <th>sample_id</th>\n",
       "      <th>read_files_downsampled</th>\n",
       "      <th>number_of_read_files_downsampled</th>\n",
       "      <th>total_coverage_downsampled</th>\n",
       "      <th>number_of_cores_per_task_downsampled</th>\n",
       "      <th>mapper_preset</th>\n",
       "      <th>kmer_size</th>\n",
       "      <th>read_files</th>\n",
       "      <th>number_of_read_files</th>\n",
       "      <th>total_coverage</th>\n",
       "      <th>coverage</th>\n",
       "      <th>number_of_cores_per_task</th>\n",
       "      <th>sequencing_chemistry</th>\n",
       "      <th>hmm_flagger_window_size</th>\n",
       "      <th>hmm_flagger_alpha_tsv</th>\n",
       "    </tr>\n",
       "  </thead>\n",
       "  <tbody>\n",
       "    <tr>\n",
       "      <th>0</th>\n",
       "      <td>GM18522</td>\n",
       "      <td>['s3://human-pangenomics/working/HPRC/NA18522/...</td>\n",
       "      <td>3</td>\n",
       "      <td>69.01</td>\n",
       "      <td>21</td>\n",
       "      <td>map-ont</td>\n",
       "      <td>15</td>\n",
       "      <td>['s3://human-pangenomics/working/HPRC/NA18522/...</td>\n",
       "      <td>3</td>\n",
       "      <td>69.01</td>\n",
       "      <td>[23.22, 29.67, 16.12]</td>\n",
       "      <td>21</td>\n",
       "      <td>R941</td>\n",
       "      <td>16000</td>\n",
       "      <td>https://raw.githubusercontent.com/mobinasri/fl...</td>\n",
       "    </tr>\n",
       "    <tr>\n",
       "      <th>1</th>\n",
       "      <td>GM18570</td>\n",
       "      <td>['s3://human-pangenomics/working/HPRC/NA18570/...</td>\n",
       "      <td>3</td>\n",
       "      <td>66.22</td>\n",
       "      <td>21</td>\n",
       "      <td>map-ont</td>\n",
       "      <td>15</td>\n",
       "      <td>['s3://human-pangenomics/working/HPRC/NA18570/...</td>\n",
       "      <td>3</td>\n",
       "      <td>66.22</td>\n",
       "      <td>[23.54, 23.88, 18.8]</td>\n",
       "      <td>21</td>\n",
       "      <td>R941</td>\n",
       "      <td>16000</td>\n",
       "      <td>https://raw.githubusercontent.com/mobinasri/fl...</td>\n",
       "    </tr>\n",
       "    <tr>\n",
       "      <th>2</th>\n",
       "      <td>GM18612</td>\n",
       "      <td>['s3://human-pangenomics/working/HPRC/NA18612/...</td>\n",
       "      <td>3</td>\n",
       "      <td>72.34</td>\n",
       "      <td>21</td>\n",
       "      <td>map-ont</td>\n",
       "      <td>15</td>\n",
       "      <td>['s3://human-pangenomics/working/HPRC/NA18612/...</td>\n",
       "      <td>3</td>\n",
       "      <td>72.34</td>\n",
       "      <td>[24.45, 19.88, 28.01]</td>\n",
       "      <td>21</td>\n",
       "      <td>R941</td>\n",
       "      <td>16000</td>\n",
       "      <td>https://raw.githubusercontent.com/mobinasri/fl...</td>\n",
       "    </tr>\n",
       "    <tr>\n",
       "      <th>3</th>\n",
       "      <td>GM18747</td>\n",
       "      <td>['s3://human-pangenomics/working/HPRC/NA18747/...</td>\n",
       "      <td>3</td>\n",
       "      <td>75.12</td>\n",
       "      <td>21</td>\n",
       "      <td>map-ont</td>\n",
       "      <td>15</td>\n",
       "      <td>['s3://human-pangenomics/working/HPRC/NA18747/...</td>\n",
       "      <td>3</td>\n",
       "      <td>75.12</td>\n",
       "      <td>[24.51, 26.08, 24.53]</td>\n",
       "      <td>21</td>\n",
       "      <td>R941</td>\n",
       "      <td>16000</td>\n",
       "      <td>https://raw.githubusercontent.com/mobinasri/fl...</td>\n",
       "    </tr>\n",
       "    <tr>\n",
       "      <th>4</th>\n",
       "      <td>GM18971</td>\n",
       "      <td>['s3://human-pangenomics/working/HPRC/NA18971/...</td>\n",
       "      <td>3</td>\n",
       "      <td>79.88</td>\n",
       "      <td>21</td>\n",
       "      <td>map-ont</td>\n",
       "      <td>15</td>\n",
       "      <td>['s3://human-pangenomics/working/HPRC/NA18971/...</td>\n",
       "      <td>3</td>\n",
       "      <td>79.88</td>\n",
       "      <td>[24.8, 28.49, 26.59]</td>\n",
       "      <td>21</td>\n",
       "      <td>R941</td>\n",
       "      <td>16000</td>\n",
       "      <td>https://raw.githubusercontent.com/mobinasri/fl...</td>\n",
       "    </tr>\n",
       "  </tbody>\n",
       "</table>\n",
       "</div>"
      ],
      "text/plain": [
       "  sample_id                             read_files_downsampled  \\\n",
       "0   GM18522  ['s3://human-pangenomics/working/HPRC/NA18522/...   \n",
       "1   GM18570  ['s3://human-pangenomics/working/HPRC/NA18570/...   \n",
       "2   GM18612  ['s3://human-pangenomics/working/HPRC/NA18612/...   \n",
       "3   GM18747  ['s3://human-pangenomics/working/HPRC/NA18747/...   \n",
       "4   GM18971  ['s3://human-pangenomics/working/HPRC/NA18971/...   \n",
       "\n",
       "   number_of_read_files_downsampled  total_coverage_downsampled  \\\n",
       "0                                 3                       69.01   \n",
       "1                                 3                       66.22   \n",
       "2                                 3                       72.34   \n",
       "3                                 3                       75.12   \n",
       "4                                 3                       79.88   \n",
       "\n",
       "   number_of_cores_per_task_downsampled mapper_preset  kmer_size  \\\n",
       "0                                    21       map-ont         15   \n",
       "1                                    21       map-ont         15   \n",
       "2                                    21       map-ont         15   \n",
       "3                                    21       map-ont         15   \n",
       "4                                    21       map-ont         15   \n",
       "\n",
       "                                          read_files  number_of_read_files  \\\n",
       "0  ['s3://human-pangenomics/working/HPRC/NA18522/...                     3   \n",
       "1  ['s3://human-pangenomics/working/HPRC/NA18570/...                     3   \n",
       "2  ['s3://human-pangenomics/working/HPRC/NA18612/...                     3   \n",
       "3  ['s3://human-pangenomics/working/HPRC/NA18747/...                     3   \n",
       "4  ['s3://human-pangenomics/working/HPRC/NA18971/...                     3   \n",
       "\n",
       "   total_coverage               coverage  number_of_cores_per_task  \\\n",
       "0           69.01  [23.22, 29.67, 16.12]                        21   \n",
       "1           66.22   [23.54, 23.88, 18.8]                        21   \n",
       "2           72.34  [24.45, 19.88, 28.01]                        21   \n",
       "3           75.12  [24.51, 26.08, 24.53]                        21   \n",
       "4           79.88   [24.8, 28.49, 26.59]                        21   \n",
       "\n",
       "  sequencing_chemistry  hmm_flagger_window_size  \\\n",
       "0                 R941                    16000   \n",
       "1                 R941                    16000   \n",
       "2                 R941                    16000   \n",
       "3                 R941                    16000   \n",
       "4                 R941                    16000   \n",
       "\n",
       "                               hmm_flagger_alpha_tsv  \n",
       "0  https://raw.githubusercontent.com/mobinasri/fl...  \n",
       "1  https://raw.githubusercontent.com/mobinasri/fl...  \n",
       "2  https://raw.githubusercontent.com/mobinasri/fl...  \n",
       "3  https://raw.githubusercontent.com/mobinasri/fl...  \n",
       "4  https://raw.githubusercontent.com/mobinasri/fl...  "
      ]
     },
     "execution_count": 13,
     "metadata": {},
     "output_type": "execute_result"
    }
   ],
   "source": [
    "ont_reads_table_with_GM = ont_reads_table[ont_reads_table['sample_id'].str.startswith('GM')]\n",
    "ont_reads_table_with_GM.head()"
   ]
  },
  {
   "cell_type": "code",
   "execution_count": 14,
   "metadata": {},
   "outputs": [
    {
     "name": "stderr",
     "output_type": "stream",
     "text": [
      "/private/home/masri/apps/anaconda3/lib/python3.7/site-packages/pandas/core/indexing.py:543: SettingWithCopyWarning: \n",
      "A value is trying to be set on a copy of a slice from a DataFrame.\n",
      "Try using .loc[row_indexer,col_indexer] = value instead\n",
      "\n",
      "See the caveats in the documentation: http://pandas.pydata.org/pandas-docs/stable/indexing.html#indexing-view-versus-copy\n",
      "  self.obj[item] = s\n"
     ]
    },
    {
     "data": {
      "text/html": [
       "<div>\n",
       "<style scoped>\n",
       "    .dataframe tbody tr th:only-of-type {\n",
       "        vertical-align: middle;\n",
       "    }\n",
       "\n",
       "    .dataframe tbody tr th {\n",
       "        vertical-align: top;\n",
       "    }\n",
       "\n",
       "    .dataframe thead th {\n",
       "        text-align: right;\n",
       "    }\n",
       "</style>\n",
       "<table border=\"1\" class=\"dataframe\">\n",
       "  <thead>\n",
       "    <tr style=\"text-align: right;\">\n",
       "      <th></th>\n",
       "      <th>sample_id</th>\n",
       "      <th>read_files_downsampled</th>\n",
       "      <th>number_of_read_files_downsampled</th>\n",
       "      <th>total_coverage_downsampled</th>\n",
       "      <th>number_of_cores_per_task_downsampled</th>\n",
       "      <th>mapper_preset</th>\n",
       "      <th>kmer_size</th>\n",
       "      <th>read_files</th>\n",
       "      <th>number_of_read_files</th>\n",
       "      <th>total_coverage</th>\n",
       "      <th>coverage</th>\n",
       "      <th>number_of_cores_per_task</th>\n",
       "      <th>sequencing_chemistry</th>\n",
       "      <th>hmm_flagger_window_size</th>\n",
       "      <th>hmm_flagger_alpha_tsv</th>\n",
       "    </tr>\n",
       "  </thead>\n",
       "  <tbody>\n",
       "    <tr>\n",
       "      <th>0</th>\n",
       "      <td>NA18522</td>\n",
       "      <td>['s3://human-pangenomics/working/HPRC/NA18522/...</td>\n",
       "      <td>3</td>\n",
       "      <td>69.01</td>\n",
       "      <td>21</td>\n",
       "      <td>map-ont</td>\n",
       "      <td>15</td>\n",
       "      <td>['s3://human-pangenomics/working/HPRC/NA18522/...</td>\n",
       "      <td>3</td>\n",
       "      <td>69.01</td>\n",
       "      <td>[23.22, 29.67, 16.12]</td>\n",
       "      <td>21</td>\n",
       "      <td>R941</td>\n",
       "      <td>16000</td>\n",
       "      <td>https://raw.githubusercontent.com/mobinasri/fl...</td>\n",
       "    </tr>\n",
       "    <tr>\n",
       "      <th>1</th>\n",
       "      <td>NA18570</td>\n",
       "      <td>['s3://human-pangenomics/working/HPRC/NA18570/...</td>\n",
       "      <td>3</td>\n",
       "      <td>66.22</td>\n",
       "      <td>21</td>\n",
       "      <td>map-ont</td>\n",
       "      <td>15</td>\n",
       "      <td>['s3://human-pangenomics/working/HPRC/NA18570/...</td>\n",
       "      <td>3</td>\n",
       "      <td>66.22</td>\n",
       "      <td>[23.54, 23.88, 18.8]</td>\n",
       "      <td>21</td>\n",
       "      <td>R941</td>\n",
       "      <td>16000</td>\n",
       "      <td>https://raw.githubusercontent.com/mobinasri/fl...</td>\n",
       "    </tr>\n",
       "    <tr>\n",
       "      <th>2</th>\n",
       "      <td>NA18612</td>\n",
       "      <td>['s3://human-pangenomics/working/HPRC/NA18612/...</td>\n",
       "      <td>3</td>\n",
       "      <td>72.34</td>\n",
       "      <td>21</td>\n",
       "      <td>map-ont</td>\n",
       "      <td>15</td>\n",
       "      <td>['s3://human-pangenomics/working/HPRC/NA18612/...</td>\n",
       "      <td>3</td>\n",
       "      <td>72.34</td>\n",
       "      <td>[24.45, 19.88, 28.01]</td>\n",
       "      <td>21</td>\n",
       "      <td>R941</td>\n",
       "      <td>16000</td>\n",
       "      <td>https://raw.githubusercontent.com/mobinasri/fl...</td>\n",
       "    </tr>\n",
       "    <tr>\n",
       "      <th>3</th>\n",
       "      <td>NA18747</td>\n",
       "      <td>['s3://human-pangenomics/working/HPRC/NA18747/...</td>\n",
       "      <td>3</td>\n",
       "      <td>75.12</td>\n",
       "      <td>21</td>\n",
       "      <td>map-ont</td>\n",
       "      <td>15</td>\n",
       "      <td>['s3://human-pangenomics/working/HPRC/NA18747/...</td>\n",
       "      <td>3</td>\n",
       "      <td>75.12</td>\n",
       "      <td>[24.51, 26.08, 24.53]</td>\n",
       "      <td>21</td>\n",
       "      <td>R941</td>\n",
       "      <td>16000</td>\n",
       "      <td>https://raw.githubusercontent.com/mobinasri/fl...</td>\n",
       "    </tr>\n",
       "    <tr>\n",
       "      <th>4</th>\n",
       "      <td>NA18971</td>\n",
       "      <td>['s3://human-pangenomics/working/HPRC/NA18971/...</td>\n",
       "      <td>3</td>\n",
       "      <td>79.88</td>\n",
       "      <td>21</td>\n",
       "      <td>map-ont</td>\n",
       "      <td>15</td>\n",
       "      <td>['s3://human-pangenomics/working/HPRC/NA18971/...</td>\n",
       "      <td>3</td>\n",
       "      <td>79.88</td>\n",
       "      <td>[24.8, 28.49, 26.59]</td>\n",
       "      <td>21</td>\n",
       "      <td>R941</td>\n",
       "      <td>16000</td>\n",
       "      <td>https://raw.githubusercontent.com/mobinasri/fl...</td>\n",
       "    </tr>\n",
       "  </tbody>\n",
       "</table>\n",
       "</div>"
      ],
      "text/plain": [
       "  sample_id                             read_files_downsampled  \\\n",
       "0   NA18522  ['s3://human-pangenomics/working/HPRC/NA18522/...   \n",
       "1   NA18570  ['s3://human-pangenomics/working/HPRC/NA18570/...   \n",
       "2   NA18612  ['s3://human-pangenomics/working/HPRC/NA18612/...   \n",
       "3   NA18747  ['s3://human-pangenomics/working/HPRC/NA18747/...   \n",
       "4   NA18971  ['s3://human-pangenomics/working/HPRC/NA18971/...   \n",
       "\n",
       "   number_of_read_files_downsampled  total_coverage_downsampled  \\\n",
       "0                                 3                       69.01   \n",
       "1                                 3                       66.22   \n",
       "2                                 3                       72.34   \n",
       "3                                 3                       75.12   \n",
       "4                                 3                       79.88   \n",
       "\n",
       "   number_of_cores_per_task_downsampled mapper_preset  kmer_size  \\\n",
       "0                                    21       map-ont         15   \n",
       "1                                    21       map-ont         15   \n",
       "2                                    21       map-ont         15   \n",
       "3                                    21       map-ont         15   \n",
       "4                                    21       map-ont         15   \n",
       "\n",
       "                                          read_files  number_of_read_files  \\\n",
       "0  ['s3://human-pangenomics/working/HPRC/NA18522/...                     3   \n",
       "1  ['s3://human-pangenomics/working/HPRC/NA18570/...                     3   \n",
       "2  ['s3://human-pangenomics/working/HPRC/NA18612/...                     3   \n",
       "3  ['s3://human-pangenomics/working/HPRC/NA18747/...                     3   \n",
       "4  ['s3://human-pangenomics/working/HPRC/NA18971/...                     3   \n",
       "\n",
       "   total_coverage               coverage  number_of_cores_per_task  \\\n",
       "0           69.01  [23.22, 29.67, 16.12]                        21   \n",
       "1           66.22   [23.54, 23.88, 18.8]                        21   \n",
       "2           72.34  [24.45, 19.88, 28.01]                        21   \n",
       "3           75.12  [24.51, 26.08, 24.53]                        21   \n",
       "4           79.88   [24.8, 28.49, 26.59]                        21   \n",
       "\n",
       "  sequencing_chemistry  hmm_flagger_window_size  \\\n",
       "0                 R941                    16000   \n",
       "1                 R941                    16000   \n",
       "2                 R941                    16000   \n",
       "3                 R941                    16000   \n",
       "4                 R941                    16000   \n",
       "\n",
       "                               hmm_flagger_alpha_tsv  \n",
       "0  https://raw.githubusercontent.com/mobinasri/fl...  \n",
       "1  https://raw.githubusercontent.com/mobinasri/fl...  \n",
       "2  https://raw.githubusercontent.com/mobinasri/fl...  \n",
       "3  https://raw.githubusercontent.com/mobinasri/fl...  \n",
       "4  https://raw.githubusercontent.com/mobinasri/fl...  "
      ]
     },
     "execution_count": 14,
     "metadata": {},
     "output_type": "execute_result"
    }
   ],
   "source": [
    "ont_reads_table_with_GM.loc[:,'sample_id'] = ont_reads_table_with_GM['sample_id'].str.replace('GM', 'NA')\n",
    "ont_reads_table_with_GM.head()"
   ]
  },
  {
   "cell_type": "code",
   "execution_count": 15,
   "metadata": {},
   "outputs": [
    {
     "data": {
      "text/plain": [
       "13"
      ]
     },
     "execution_count": 15,
     "metadata": {},
     "output_type": "execute_result"
    }
   ],
   "source": [
    "# merge with censat table\n",
    "ont_data_table_jan_12_2025 = pd.merge(censat_table_diploid, ont_reads_table_with_GM, on='sample_id',  how='inner')\n",
    "len(ont_data_table_jan_12_2025)"
   ]
  },
  {
   "cell_type": "code",
   "execution_count": 16,
   "metadata": {},
   "outputs": [],
   "source": [
    "ont_data_table_first_run = pd.read_csv(f'{BASE_DIR}/batch1/hmm_flagger/ont/hmm_flagger_ont_data_table.csv')"
   ]
  },
  {
   "cell_type": "code",
   "execution_count": 17,
   "metadata": {},
   "outputs": [
    {
     "name": "stdout",
     "output_type": "stream",
     "text": [
      "There are 11 missing samples without ONT reads for censat batch 1\n",
      "NA21309\n",
      "HG02055\n",
      "HG02818\n",
      "HG03486\n",
      "HG02723\n",
      "HG01109\n",
      "NA18906\n",
      "HG02080\n",
      "HG03098\n",
      "NA20129\n",
      "HG02109\n"
     ]
    }
   ],
   "source": [
    "sample_ids_censat_batch1 = set(censat_table_diploid['sample_id'])\n",
    "sample_ids_first_run = set(ont_data_table_first_run['sample_id'])\n",
    "sample_id_jan_12_2025 = set(ont_data_table_jan_12_2025['sample_id'])\n",
    "missing_samples = sample_ids_censat_batch1.difference(sample_ids_first_run.union(sample_id_jan_12_2025))\n",
    "print(f\"There are {len(missing_samples)} missing samples without ONT reads for censat batch 1\")\n",
    "print(\"\\n\".join(missing_samples))"
   ]
  },
  {
   "cell_type": "code",
   "execution_count": 18,
   "metadata": {},
   "outputs": [],
   "source": [
    "# add column \"suffix_mapping\"\n",
    "ont_data_table_jan_12_2025[\"suffix_mapping\"] = ont_data_table_jan_12_2025[\"sequencing_chemistry\"] + \"_minimap2_2.28\""
   ]
  },
  {
   "cell_type": "code",
   "execution_count": 19,
   "metadata": {},
   "outputs": [],
   "source": [
    "os.makedirs(\"ont\", exist_ok=True)\n",
    "ont_data_table_jan_12_2025.to_csv('ont/hmm_flagger_ont_data_table.csv', index=False)"
   ]
  },
  {
   "cell_type": "code",
   "execution_count": null,
   "metadata": {},
   "outputs": [],
   "source": []
  }
 ],
 "metadata": {
  "kernelspec": {
   "display_name": "Python 3",
   "language": "python",
   "name": "python3"
  },
  "language_info": {
   "codemirror_mode": {
    "name": "ipython",
    "version": 3
   },
   "file_extension": ".py",
   "mimetype": "text/x-python",
   "name": "python",
   "nbconvert_exporter": "python",
   "pygments_lexer": "ipython3",
   "version": "3.7.6"
  }
 },
 "nbformat": 4,
 "nbformat_minor": 4
}
